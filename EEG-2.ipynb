{
 "cells": [
  {
   "cell_type": "code",
   "execution_count": 2,
   "metadata": {},
   "outputs": [],
   "source": [
    "import numpy as np\n",
    "import pandas as pd\n",
    "import matplotlib.pyplot as plt\n",
    "import seaborn as sb"
   ]
  },
  {
   "cell_type": "code",
   "execution_count": 3,
   "metadata": {},
   "outputs": [
    {
     "data": {
      "text/html": [
       "<div>\n",
       "<style scoped>\n",
       "    .dataframe tbody tr th:only-of-type {\n",
       "        vertical-align: middle;\n",
       "    }\n",
       "\n",
       "    .dataframe tbody tr th {\n",
       "        vertical-align: top;\n",
       "    }\n",
       "\n",
       "    .dataframe thead th {\n",
       "        text-align: right;\n",
       "    }\n",
       "</style>\n",
       "<table border=\"1\" class=\"dataframe\">\n",
       "  <thead>\n",
       "    <tr style=\"text-align: right;\">\n",
       "      <th></th>\n",
       "      <th># FP1-F7</th>\n",
       "      <th>C3-P3</th>\n",
       "      <th>C4-P4</th>\n",
       "      <th>CZ-PZ</th>\n",
       "      <th>F3-C3</th>\n",
       "      <th>F4-C4</th>\n",
       "      <th>F7-T7</th>\n",
       "      <th>F8-T8</th>\n",
       "      <th>FP1-F3</th>\n",
       "      <th>FP2-F4</th>\n",
       "      <th>...</th>\n",
       "      <th>P3-O1</th>\n",
       "      <th>P4-O2</th>\n",
       "      <th>P7-O1</th>\n",
       "      <th>P7-T7</th>\n",
       "      <th>P8-O2</th>\n",
       "      <th>T7-FT9</th>\n",
       "      <th>T7-P7</th>\n",
       "      <th>T8-P8-0</th>\n",
       "      <th>T8-P8-1</th>\n",
       "      <th>Outcome</th>\n",
       "    </tr>\n",
       "  </thead>\n",
       "  <tbody>\n",
       "    <tr>\n",
       "      <th>0</th>\n",
       "      <td>0.000020</td>\n",
       "      <td>0.000010</td>\n",
       "      <td>0.000022</td>\n",
       "      <td>0.000037</td>\n",
       "      <td>0.000032</td>\n",
       "      <td>0.000035</td>\n",
       "      <td>0.000016</td>\n",
       "      <td>0.000046</td>\n",
       "      <td>-0.000007</td>\n",
       "      <td>0.000043</td>\n",
       "      <td>...</td>\n",
       "      <td>0.000024</td>\n",
       "      <td>-0.000030</td>\n",
       "      <td>0.000010</td>\n",
       "      <td>-0.000011</td>\n",
       "      <td>-0.000037</td>\n",
       "      <td>0.000008</td>\n",
       "      <td>0.000012</td>\n",
       "      <td>0.000021</td>\n",
       "      <td>0.000021</td>\n",
       "      <td>0.0</td>\n",
       "    </tr>\n",
       "    <tr>\n",
       "      <th>1</th>\n",
       "      <td>0.000022</td>\n",
       "      <td>0.000008</td>\n",
       "      <td>0.000021</td>\n",
       "      <td>0.000039</td>\n",
       "      <td>0.000030</td>\n",
       "      <td>0.000032</td>\n",
       "      <td>0.000015</td>\n",
       "      <td>0.000039</td>\n",
       "      <td>-0.000006</td>\n",
       "      <td>0.000042</td>\n",
       "      <td>...</td>\n",
       "      <td>0.000026</td>\n",
       "      <td>-0.000017</td>\n",
       "      <td>0.000012</td>\n",
       "      <td>-0.000008</td>\n",
       "      <td>-0.000029</td>\n",
       "      <td>0.000010</td>\n",
       "      <td>0.000009</td>\n",
       "      <td>0.000023</td>\n",
       "      <td>0.000023</td>\n",
       "      <td>0.0</td>\n",
       "    </tr>\n",
       "    <tr>\n",
       "      <th>2</th>\n",
       "      <td>0.000021</td>\n",
       "      <td>0.000012</td>\n",
       "      <td>0.000021</td>\n",
       "      <td>0.000040</td>\n",
       "      <td>0.000025</td>\n",
       "      <td>0.000030</td>\n",
       "      <td>0.000013</td>\n",
       "      <td>0.000036</td>\n",
       "      <td>-0.000006</td>\n",
       "      <td>0.000040</td>\n",
       "      <td>...</td>\n",
       "      <td>0.000027</td>\n",
       "      <td>-0.000018</td>\n",
       "      <td>0.000014</td>\n",
       "      <td>-0.000009</td>\n",
       "      <td>-0.000034</td>\n",
       "      <td>0.000012</td>\n",
       "      <td>0.000009</td>\n",
       "      <td>0.000027</td>\n",
       "      <td>0.000027</td>\n",
       "      <td>0.0</td>\n",
       "    </tr>\n",
       "    <tr>\n",
       "      <th>3</th>\n",
       "      <td>0.000019</td>\n",
       "      <td>0.000012</td>\n",
       "      <td>0.000021</td>\n",
       "      <td>0.000039</td>\n",
       "      <td>0.000023</td>\n",
       "      <td>0.000028</td>\n",
       "      <td>0.000013</td>\n",
       "      <td>0.000035</td>\n",
       "      <td>-0.000008</td>\n",
       "      <td>0.000036</td>\n",
       "      <td>...</td>\n",
       "      <td>0.000030</td>\n",
       "      <td>-0.000024</td>\n",
       "      <td>0.000015</td>\n",
       "      <td>-0.000009</td>\n",
       "      <td>-0.000042</td>\n",
       "      <td>0.000009</td>\n",
       "      <td>0.000010</td>\n",
       "      <td>0.000033</td>\n",
       "      <td>0.000033</td>\n",
       "      <td>0.0</td>\n",
       "    </tr>\n",
       "    <tr>\n",
       "      <th>4</th>\n",
       "      <td>0.000019</td>\n",
       "      <td>0.000012</td>\n",
       "      <td>0.000021</td>\n",
       "      <td>0.000036</td>\n",
       "      <td>0.000023</td>\n",
       "      <td>0.000024</td>\n",
       "      <td>0.000012</td>\n",
       "      <td>0.000024</td>\n",
       "      <td>-0.000009</td>\n",
       "      <td>0.000032</td>\n",
       "      <td>...</td>\n",
       "      <td>0.000032</td>\n",
       "      <td>-0.000014</td>\n",
       "      <td>0.000017</td>\n",
       "      <td>-0.000008</td>\n",
       "      <td>-0.000031</td>\n",
       "      <td>0.000009</td>\n",
       "      <td>0.000008</td>\n",
       "      <td>0.000035</td>\n",
       "      <td>0.000035</td>\n",
       "      <td>0.0</td>\n",
       "    </tr>\n",
       "  </tbody>\n",
       "</table>\n",
       "<p>5 rows × 24 columns</p>\n",
       "</div>"
      ],
      "text/plain": [
       "   # FP1-F7     C3-P3     C4-P4     CZ-PZ     F3-C3     F4-C4     F7-T7  \\\n",
       "0  0.000020  0.000010  0.000022  0.000037  0.000032  0.000035  0.000016   \n",
       "1  0.000022  0.000008  0.000021  0.000039  0.000030  0.000032  0.000015   \n",
       "2  0.000021  0.000012  0.000021  0.000040  0.000025  0.000030  0.000013   \n",
       "3  0.000019  0.000012  0.000021  0.000039  0.000023  0.000028  0.000013   \n",
       "4  0.000019  0.000012  0.000021  0.000036  0.000023  0.000024  0.000012   \n",
       "\n",
       "      F8-T8    FP1-F3    FP2-F4  ...     P3-O1     P4-O2     P7-O1     P7-T7  \\\n",
       "0  0.000046 -0.000007  0.000043  ...  0.000024 -0.000030  0.000010 -0.000011   \n",
       "1  0.000039 -0.000006  0.000042  ...  0.000026 -0.000017  0.000012 -0.000008   \n",
       "2  0.000036 -0.000006  0.000040  ...  0.000027 -0.000018  0.000014 -0.000009   \n",
       "3  0.000035 -0.000008  0.000036  ...  0.000030 -0.000024  0.000015 -0.000009   \n",
       "4  0.000024 -0.000009  0.000032  ...  0.000032 -0.000014  0.000017 -0.000008   \n",
       "\n",
       "      P8-O2    T7-FT9     T7-P7   T8-P8-0   T8-P8-1  Outcome  \n",
       "0 -0.000037  0.000008  0.000012  0.000021  0.000021      0.0  \n",
       "1 -0.000029  0.000010  0.000009  0.000023  0.000023      0.0  \n",
       "2 -0.000034  0.000012  0.000009  0.000027  0.000027      0.0  \n",
       "3 -0.000042  0.000009  0.000010  0.000033  0.000033      0.0  \n",
       "4 -0.000031  0.000009  0.000008  0.000035  0.000035      0.0  \n",
       "\n",
       "[5 rows x 24 columns]"
      ]
     },
     "execution_count": 3,
     "metadata": {},
     "output_type": "execute_result"
    }
   ],
   "source": [
    "df = pd.read_csv(\"chbmit_preprocessed_data.csv\")\n",
    "df.head()"
   ]
  },
  {
   "cell_type": "code",
   "execution_count": 4,
   "metadata": {},
   "outputs": [
    {
     "name": "stdout",
     "output_type": "stream",
     "text": [
      "<class 'pandas.core.frame.DataFrame'>\n",
      "RangeIndex: 2097150 entries, 0 to 2097149\n",
      "Data columns (total 24 columns):\n",
      " #   Column    Dtype  \n",
      "---  ------    -----  \n",
      " 0   # FP1-F7  float64\n",
      " 1   C3-P3     float64\n",
      " 2   C4-P4     float64\n",
      " 3   CZ-PZ     float64\n",
      " 4   F3-C3     float64\n",
      " 5   F4-C4     float64\n",
      " 6   F7-T7     float64\n",
      " 7   F8-T8     float64\n",
      " 8   FP1-F3    float64\n",
      " 9   FP2-F4    float64\n",
      " 10  FP2-F8    float64\n",
      " 11  FT10-T8   float64\n",
      " 12  FT9-FT10  float64\n",
      " 13  FZ-CZ     float64\n",
      " 14  P3-O1     float64\n",
      " 15  P4-O2     float64\n",
      " 16  P7-O1     float64\n",
      " 17  P7-T7     float64\n",
      " 18  P8-O2     float64\n",
      " 19  T7-FT9    float64\n",
      " 20  T7-P7     float64\n",
      " 21  T8-P8-0   float64\n",
      " 22  T8-P8-1   float64\n",
      " 23  Outcome   float64\n",
      "dtypes: float64(24)\n",
      "memory usage: 384.0 MB\n"
     ]
    }
   ],
   "source": [
    "df.info()"
   ]
  },
  {
   "cell_type": "code",
   "execution_count": 5,
   "metadata": {},
   "outputs": [],
   "source": [
    "X = df.drop(\"Outcome\", 1)\n",
    "y = df[\"Outcome\"]"
   ]
  },
  {
   "cell_type": "code",
   "execution_count": 6,
   "metadata": {},
   "outputs": [
    {
     "data": {
      "text/plain": [
       "(2097150, 24)"
      ]
     },
     "execution_count": 6,
     "metadata": {},
     "output_type": "execute_result"
    }
   ],
   "source": [
    "df.shape"
   ]
  },
  {
   "cell_type": "code",
   "execution_count": 7,
   "metadata": {},
   "outputs": [
    {
     "data": {
      "text/html": [
       "<div>\n",
       "<style scoped>\n",
       "    .dataframe tbody tr th:only-of-type {\n",
       "        vertical-align: middle;\n",
       "    }\n",
       "\n",
       "    .dataframe tbody tr th {\n",
       "        vertical-align: top;\n",
       "    }\n",
       "\n",
       "    .dataframe thead th {\n",
       "        text-align: right;\n",
       "    }\n",
       "</style>\n",
       "<table border=\"1\" class=\"dataframe\">\n",
       "  <thead>\n",
       "    <tr style=\"text-align: right;\">\n",
       "      <th></th>\n",
       "      <th># FP1-F7</th>\n",
       "      <th>C3-P3</th>\n",
       "      <th>C4-P4</th>\n",
       "      <th>CZ-PZ</th>\n",
       "      <th>F3-C3</th>\n",
       "      <th>F4-C4</th>\n",
       "      <th>F7-T7</th>\n",
       "      <th>F8-T8</th>\n",
       "      <th>FP1-F3</th>\n",
       "      <th>FP2-F4</th>\n",
       "      <th>...</th>\n",
       "      <th>P3-O1</th>\n",
       "      <th>P4-O2</th>\n",
       "      <th>P7-O1</th>\n",
       "      <th>P7-T7</th>\n",
       "      <th>P8-O2</th>\n",
       "      <th>T7-FT9</th>\n",
       "      <th>T7-P7</th>\n",
       "      <th>T8-P8-0</th>\n",
       "      <th>T8-P8-1</th>\n",
       "      <th>Outcome</th>\n",
       "    </tr>\n",
       "  </thead>\n",
       "  <tbody>\n",
       "    <tr>\n",
       "      <th>0</th>\n",
       "      <td>0.000020</td>\n",
       "      <td>0.000010</td>\n",
       "      <td>0.000022</td>\n",
       "      <td>0.000037</td>\n",
       "      <td>0.000032</td>\n",
       "      <td>0.000035</td>\n",
       "      <td>0.000016</td>\n",
       "      <td>0.000046</td>\n",
       "      <td>-0.000007</td>\n",
       "      <td>0.000043</td>\n",
       "      <td>...</td>\n",
       "      <td>0.000024</td>\n",
       "      <td>-0.000030</td>\n",
       "      <td>0.000010</td>\n",
       "      <td>-0.000011</td>\n",
       "      <td>-0.000037</td>\n",
       "      <td>0.000008</td>\n",
       "      <td>0.000012</td>\n",
       "      <td>0.000021</td>\n",
       "      <td>0.000021</td>\n",
       "      <td>0.0</td>\n",
       "    </tr>\n",
       "    <tr>\n",
       "      <th>1</th>\n",
       "      <td>0.000022</td>\n",
       "      <td>0.000008</td>\n",
       "      <td>0.000021</td>\n",
       "      <td>0.000039</td>\n",
       "      <td>0.000030</td>\n",
       "      <td>0.000032</td>\n",
       "      <td>0.000015</td>\n",
       "      <td>0.000039</td>\n",
       "      <td>-0.000006</td>\n",
       "      <td>0.000042</td>\n",
       "      <td>...</td>\n",
       "      <td>0.000026</td>\n",
       "      <td>-0.000017</td>\n",
       "      <td>0.000012</td>\n",
       "      <td>-0.000008</td>\n",
       "      <td>-0.000029</td>\n",
       "      <td>0.000010</td>\n",
       "      <td>0.000009</td>\n",
       "      <td>0.000023</td>\n",
       "      <td>0.000023</td>\n",
       "      <td>0.0</td>\n",
       "    </tr>\n",
       "    <tr>\n",
       "      <th>2</th>\n",
       "      <td>0.000021</td>\n",
       "      <td>0.000012</td>\n",
       "      <td>0.000021</td>\n",
       "      <td>0.000040</td>\n",
       "      <td>0.000025</td>\n",
       "      <td>0.000030</td>\n",
       "      <td>0.000013</td>\n",
       "      <td>0.000036</td>\n",
       "      <td>-0.000006</td>\n",
       "      <td>0.000040</td>\n",
       "      <td>...</td>\n",
       "      <td>0.000027</td>\n",
       "      <td>-0.000018</td>\n",
       "      <td>0.000014</td>\n",
       "      <td>-0.000009</td>\n",
       "      <td>-0.000034</td>\n",
       "      <td>0.000012</td>\n",
       "      <td>0.000009</td>\n",
       "      <td>0.000027</td>\n",
       "      <td>0.000027</td>\n",
       "      <td>0.0</td>\n",
       "    </tr>\n",
       "    <tr>\n",
       "      <th>3</th>\n",
       "      <td>0.000019</td>\n",
       "      <td>0.000012</td>\n",
       "      <td>0.000021</td>\n",
       "      <td>0.000039</td>\n",
       "      <td>0.000023</td>\n",
       "      <td>0.000028</td>\n",
       "      <td>0.000013</td>\n",
       "      <td>0.000035</td>\n",
       "      <td>-0.000008</td>\n",
       "      <td>0.000036</td>\n",
       "      <td>...</td>\n",
       "      <td>0.000030</td>\n",
       "      <td>-0.000024</td>\n",
       "      <td>0.000015</td>\n",
       "      <td>-0.000009</td>\n",
       "      <td>-0.000042</td>\n",
       "      <td>0.000009</td>\n",
       "      <td>0.000010</td>\n",
       "      <td>0.000033</td>\n",
       "      <td>0.000033</td>\n",
       "      <td>0.0</td>\n",
       "    </tr>\n",
       "    <tr>\n",
       "      <th>4</th>\n",
       "      <td>0.000019</td>\n",
       "      <td>0.000012</td>\n",
       "      <td>0.000021</td>\n",
       "      <td>0.000036</td>\n",
       "      <td>0.000023</td>\n",
       "      <td>0.000024</td>\n",
       "      <td>0.000012</td>\n",
       "      <td>0.000024</td>\n",
       "      <td>-0.000009</td>\n",
       "      <td>0.000032</td>\n",
       "      <td>...</td>\n",
       "      <td>0.000032</td>\n",
       "      <td>-0.000014</td>\n",
       "      <td>0.000017</td>\n",
       "      <td>-0.000008</td>\n",
       "      <td>-0.000031</td>\n",
       "      <td>0.000009</td>\n",
       "      <td>0.000008</td>\n",
       "      <td>0.000035</td>\n",
       "      <td>0.000035</td>\n",
       "      <td>0.0</td>\n",
       "    </tr>\n",
       "    <tr>\n",
       "      <th>...</th>\n",
       "      <td>...</td>\n",
       "      <td>...</td>\n",
       "      <td>...</td>\n",
       "      <td>...</td>\n",
       "      <td>...</td>\n",
       "      <td>...</td>\n",
       "      <td>...</td>\n",
       "      <td>...</td>\n",
       "      <td>...</td>\n",
       "      <td>...</td>\n",
       "      <td>...</td>\n",
       "      <td>...</td>\n",
       "      <td>...</td>\n",
       "      <td>...</td>\n",
       "      <td>...</td>\n",
       "      <td>...</td>\n",
       "      <td>...</td>\n",
       "      <td>...</td>\n",
       "      <td>...</td>\n",
       "      <td>...</td>\n",
       "      <td>...</td>\n",
       "    </tr>\n",
       "    <tr>\n",
       "      <th>2097145</th>\n",
       "      <td>0.000081</td>\n",
       "      <td>0.000047</td>\n",
       "      <td>0.000087</td>\n",
       "      <td>0.000074</td>\n",
       "      <td>0.000113</td>\n",
       "      <td>0.000063</td>\n",
       "      <td>0.000129</td>\n",
       "      <td>-0.000037</td>\n",
       "      <td>0.000102</td>\n",
       "      <td>-0.000106</td>\n",
       "      <td>...</td>\n",
       "      <td>-0.000036</td>\n",
       "      <td>0.000072</td>\n",
       "      <td>-0.000046</td>\n",
       "      <td>-0.000060</td>\n",
       "      <td>0.000070</td>\n",
       "      <td>-0.000169</td>\n",
       "      <td>0.000060</td>\n",
       "      <td>0.000070</td>\n",
       "      <td>0.000070</td>\n",
       "      <td>1.0</td>\n",
       "    </tr>\n",
       "    <tr>\n",
       "      <th>2097146</th>\n",
       "      <td>0.000093</td>\n",
       "      <td>0.000055</td>\n",
       "      <td>0.000087</td>\n",
       "      <td>0.000082</td>\n",
       "      <td>0.000133</td>\n",
       "      <td>0.000058</td>\n",
       "      <td>0.000133</td>\n",
       "      <td>-0.000036</td>\n",
       "      <td>0.000088</td>\n",
       "      <td>-0.000115</td>\n",
       "      <td>...</td>\n",
       "      <td>-0.000031</td>\n",
       "      <td>0.000087</td>\n",
       "      <td>-0.000049</td>\n",
       "      <td>-0.000067</td>\n",
       "      <td>0.000076</td>\n",
       "      <td>-0.000152</td>\n",
       "      <td>0.000068</td>\n",
       "      <td>0.000063</td>\n",
       "      <td>0.000063</td>\n",
       "      <td>1.0</td>\n",
       "    </tr>\n",
       "    <tr>\n",
       "      <th>2097147</th>\n",
       "      <td>0.000110</td>\n",
       "      <td>0.000061</td>\n",
       "      <td>0.000078</td>\n",
       "      <td>0.000085</td>\n",
       "      <td>0.000146</td>\n",
       "      <td>0.000049</td>\n",
       "      <td>0.000130</td>\n",
       "      <td>-0.000036</td>\n",
       "      <td>0.000076</td>\n",
       "      <td>-0.000119</td>\n",
       "      <td>...</td>\n",
       "      <td>-0.000033</td>\n",
       "      <td>0.000106</td>\n",
       "      <td>-0.000058</td>\n",
       "      <td>-0.000067</td>\n",
       "      <td>0.000075</td>\n",
       "      <td>-0.000145</td>\n",
       "      <td>0.000067</td>\n",
       "      <td>0.000062</td>\n",
       "      <td>0.000062</td>\n",
       "      <td>1.0</td>\n",
       "    </tr>\n",
       "    <tr>\n",
       "      <th>2097148</th>\n",
       "      <td>0.000133</td>\n",
       "      <td>0.000068</td>\n",
       "      <td>0.000082</td>\n",
       "      <td>0.000085</td>\n",
       "      <td>0.000157</td>\n",
       "      <td>0.000040</td>\n",
       "      <td>0.000123</td>\n",
       "      <td>-0.000033</td>\n",
       "      <td>0.000067</td>\n",
       "      <td>-0.000124</td>\n",
       "      <td>...</td>\n",
       "      <td>-0.000036</td>\n",
       "      <td>0.000107</td>\n",
       "      <td>-0.000073</td>\n",
       "      <td>-0.000073</td>\n",
       "      <td>0.000068</td>\n",
       "      <td>-0.000129</td>\n",
       "      <td>0.000073</td>\n",
       "      <td>0.000056</td>\n",
       "      <td>0.000056</td>\n",
       "      <td>1.0</td>\n",
       "    </tr>\n",
       "    <tr>\n",
       "      <th>2097149</th>\n",
       "      <td>0.000144</td>\n",
       "      <td>0.000070</td>\n",
       "      <td>0.000078</td>\n",
       "      <td>0.000085</td>\n",
       "      <td>0.000166</td>\n",
       "      <td>0.000027</td>\n",
       "      <td>0.000117</td>\n",
       "      <td>-0.000033</td>\n",
       "      <td>0.000052</td>\n",
       "      <td>-0.000126</td>\n",
       "      <td>...</td>\n",
       "      <td>-0.000033</td>\n",
       "      <td>0.000114</td>\n",
       "      <td>-0.000087</td>\n",
       "      <td>-0.000081</td>\n",
       "      <td>0.000065</td>\n",
       "      <td>-0.000104</td>\n",
       "      <td>0.000081</td>\n",
       "      <td>0.000048</td>\n",
       "      <td>0.000048</td>\n",
       "      <td>1.0</td>\n",
       "    </tr>\n",
       "  </tbody>\n",
       "</table>\n",
       "<p>2097150 rows × 24 columns</p>\n",
       "</div>"
      ],
      "text/plain": [
       "         # FP1-F7     C3-P3     C4-P4     CZ-PZ     F3-C3     F4-C4     F7-T7  \\\n",
       "0        0.000020  0.000010  0.000022  0.000037  0.000032  0.000035  0.000016   \n",
       "1        0.000022  0.000008  0.000021  0.000039  0.000030  0.000032  0.000015   \n",
       "2        0.000021  0.000012  0.000021  0.000040  0.000025  0.000030  0.000013   \n",
       "3        0.000019  0.000012  0.000021  0.000039  0.000023  0.000028  0.000013   \n",
       "4        0.000019  0.000012  0.000021  0.000036  0.000023  0.000024  0.000012   \n",
       "...           ...       ...       ...       ...       ...       ...       ...   \n",
       "2097145  0.000081  0.000047  0.000087  0.000074  0.000113  0.000063  0.000129   \n",
       "2097146  0.000093  0.000055  0.000087  0.000082  0.000133  0.000058  0.000133   \n",
       "2097147  0.000110  0.000061  0.000078  0.000085  0.000146  0.000049  0.000130   \n",
       "2097148  0.000133  0.000068  0.000082  0.000085  0.000157  0.000040  0.000123   \n",
       "2097149  0.000144  0.000070  0.000078  0.000085  0.000166  0.000027  0.000117   \n",
       "\n",
       "            F8-T8    FP1-F3    FP2-F4  ...     P3-O1     P4-O2     P7-O1  \\\n",
       "0        0.000046 -0.000007  0.000043  ...  0.000024 -0.000030  0.000010   \n",
       "1        0.000039 -0.000006  0.000042  ...  0.000026 -0.000017  0.000012   \n",
       "2        0.000036 -0.000006  0.000040  ...  0.000027 -0.000018  0.000014   \n",
       "3        0.000035 -0.000008  0.000036  ...  0.000030 -0.000024  0.000015   \n",
       "4        0.000024 -0.000009  0.000032  ...  0.000032 -0.000014  0.000017   \n",
       "...           ...       ...       ...  ...       ...       ...       ...   \n",
       "2097145 -0.000037  0.000102 -0.000106  ... -0.000036  0.000072 -0.000046   \n",
       "2097146 -0.000036  0.000088 -0.000115  ... -0.000031  0.000087 -0.000049   \n",
       "2097147 -0.000036  0.000076 -0.000119  ... -0.000033  0.000106 -0.000058   \n",
       "2097148 -0.000033  0.000067 -0.000124  ... -0.000036  0.000107 -0.000073   \n",
       "2097149 -0.000033  0.000052 -0.000126  ... -0.000033  0.000114 -0.000087   \n",
       "\n",
       "            P7-T7     P8-O2    T7-FT9     T7-P7   T8-P8-0   T8-P8-1  Outcome  \n",
       "0       -0.000011 -0.000037  0.000008  0.000012  0.000021  0.000021      0.0  \n",
       "1       -0.000008 -0.000029  0.000010  0.000009  0.000023  0.000023      0.0  \n",
       "2       -0.000009 -0.000034  0.000012  0.000009  0.000027  0.000027      0.0  \n",
       "3       -0.000009 -0.000042  0.000009  0.000010  0.000033  0.000033      0.0  \n",
       "4       -0.000008 -0.000031  0.000009  0.000008  0.000035  0.000035      0.0  \n",
       "...           ...       ...       ...       ...       ...       ...      ...  \n",
       "2097145 -0.000060  0.000070 -0.000169  0.000060  0.000070  0.000070      1.0  \n",
       "2097146 -0.000067  0.000076 -0.000152  0.000068  0.000063  0.000063      1.0  \n",
       "2097147 -0.000067  0.000075 -0.000145  0.000067  0.000062  0.000062      1.0  \n",
       "2097148 -0.000073  0.000068 -0.000129  0.000073  0.000056  0.000056      1.0  \n",
       "2097149 -0.000081  0.000065 -0.000104  0.000081  0.000048  0.000048      1.0  \n",
       "\n",
       "[2097150 rows x 24 columns]"
      ]
     },
     "execution_count": 7,
     "metadata": {},
     "output_type": "execute_result"
    }
   ],
   "source": [
    "df"
   ]
  },
  {
   "cell_type": "code",
   "execution_count": 8,
   "metadata": {},
   "outputs": [
    {
     "data": {
      "image/png": "[encoded data removed]",
      "text/plain": [
       "<Figure size 432x288 with 1 Axes>"
      ]
     },
     "metadata": {
      "needs_background": "light"
     },
     "output_type": "display_data"
    }
   ],
   "source": [
    "sb.countplot(x=\"Outcome\", data = df)\n",
    "plt.title('Seizure Label Distribution')\n",
    "plt.show()"
   ]
  },
  {
   "cell_type": "code",
   "execution_count": 9,
   "metadata": {},
   "outputs": [
    {
     "data": {
      "text/plain": [
       "<matplotlib.axes._subplots.AxesSubplot at 0x7f82980a0460>"
      ]
     },
     "execution_count": 9,
     "metadata": {},
     "output_type": "execute_result"
    },
    {
     "data": {
      "image/png": "[encoded data removed]",
      "text/plain": [
       "<Figure size 432x288 with 1 Axes>"
      ]
     },
     "metadata": {
      "needs_background": "light"
     },
     "output_type": "display_data"
    }
   ],
   "source": [
    "df.plot.scatter(x='C3-P3', y='C4-P4', c='DarkBlue', alpha = 1/30)"
   ]
  },
  {
   "cell_type": "markdown",
   "metadata": {},
   "source": [
    "- no cluster\n",
    "- no linear correlation\n",
    "- moderate outliers"
   ]
  },
  {
   "cell_type": "code",
   "execution_count": 10,
   "metadata": {},
   "outputs": [
    {
     "data": {
      "text/plain": [
       "<matplotlib.axes._subplots.AxesSubplot at 0x7f821cc00670>"
      ]
     },
     "execution_count": 10,
     "metadata": {},
     "output_type": "execute_result"
    },
    {
     "data": {
      "image/png": "[encoded data removed]",
      "text/plain": [
       "<Figure size 432x288 with 2 Axes>"
      ]
     },
     "metadata": {
      "needs_background": "light"
     },
     "output_type": "display_data"
    }
   ],
   "source": [
    "sb.heatmap(df.corr())"
   ]
  },
  {
   "cell_type": "markdown",
   "metadata": {},
   "source": [
    "- not much correlations\n",
    "- F3-C3 and FZ-CZ have positive correlaiton\n",
    "- F7-T7 and FZ-CZ have positive correlation"
   ]
  },
  {
   "cell_type": "code",
   "execution_count": 11,
   "metadata": {},
   "outputs": [
    {
     "data": {
      "text/plain": [
       "Text(0.5, 1.0, 'C3-P3')"
      ]
     },
     "execution_count": 11,
     "metadata": {},
     "output_type": "execute_result"
    },
    {
     "data": {
      "image/png": "[encoded data removed]",
      "text/plain": [
       "<Figure size 432x288 with 1 Axes>"
      ]
     },
     "metadata": {
      "needs_background": "light"
     },
     "output_type": "display_data"
    }
   ],
   "source": [
    "plt.hist(df['C3-P3'], bins = 50, color = 'pink', edgecolor='black', linewidth=1.0)\n",
    "plt.title('C3-P3')"
   ]
  },
  {
   "cell_type": "markdown",
   "metadata": {},
   "source": [
    "- distribution of data\n",
    "- mean is around 0\n",
    "- histogram is symmetric\n",
    "- no significant outliers"
   ]
  },
  {
   "cell_type": "code",
   "execution_count": 12,
   "metadata": {},
   "outputs": [
    {
     "data": {
      "text/plain": [
       "<matplotlib.axes._subplots.AxesSubplot at 0x7f82201fe8b0>"
      ]
     },
     "execution_count": 12,
     "metadata": {},
     "output_type": "execute_result"
    },
    {
     "data": {
      "image/png": "[encoded data removed]",
      "text/plain": [
       "<Figure size 432x288 with 1 Axes>"
      ]
     },
     "metadata": {
      "needs_background": "light"
     },
     "output_type": "display_data"
    }
   ],
   "source": [
    "sb.violinplot(data = df, x = \"C3-P3\")"
   ]
  },
  {
   "cell_type": "markdown",
   "metadata": {},
   "source": [
    "- roughly symmetric\n",
    "- mean is 0\n",
    "- skewed slightly to the left\n",
    "- no significant outliers"
   ]
  },
  {
   "cell_type": "code",
   "execution_count": 13,
   "metadata": {},
   "outputs": [
    {
     "data": {
      "text/html": [
       "<div>\n",
       "<style scoped>\n",
       "    .dataframe tbody tr th:only-of-type {\n",
       "        vertical-align: middle;\n",
       "    }\n",
       "\n",
       "    .dataframe tbody tr th {\n",
       "        vertical-align: top;\n",
       "    }\n",
       "\n",
       "    .dataframe thead th {\n",
       "        text-align: right;\n",
       "    }\n",
       "</style>\n",
       "<table border=\"1\" class=\"dataframe\">\n",
       "  <thead>\n",
       "    <tr style=\"text-align: right;\">\n",
       "      <th></th>\n",
       "      <th># FP1-F7</th>\n",
       "      <th>C3-P3</th>\n",
       "      <th>C4-P4</th>\n",
       "      <th>CZ-PZ</th>\n",
       "      <th>F3-C3</th>\n",
       "      <th>F4-C4</th>\n",
       "      <th>F7-T7</th>\n",
       "      <th>F8-T8</th>\n",
       "      <th>FP1-F3</th>\n",
       "      <th>FP2-F4</th>\n",
       "      <th>...</th>\n",
       "      <th>P3-O1</th>\n",
       "      <th>P4-O2</th>\n",
       "      <th>P7-O1</th>\n",
       "      <th>P7-T7</th>\n",
       "      <th>P8-O2</th>\n",
       "      <th>T7-FT9</th>\n",
       "      <th>T7-P7</th>\n",
       "      <th>T8-P8-0</th>\n",
       "      <th>T8-P8-1</th>\n",
       "      <th>Outcome</th>\n",
       "    </tr>\n",
       "  </thead>\n",
       "  <tbody>\n",
       "    <tr>\n",
       "      <th>count</th>\n",
       "      <td>2.097150e+06</td>\n",
       "      <td>2.097150e+06</td>\n",
       "      <td>2.097150e+06</td>\n",
       "      <td>2.097150e+06</td>\n",
       "      <td>2.097150e+06</td>\n",
       "      <td>2.097150e+06</td>\n",
       "      <td>2.097150e+06</td>\n",
       "      <td>2.097150e+06</td>\n",
       "      <td>2.097150e+06</td>\n",
       "      <td>2.097150e+06</td>\n",
       "      <td>...</td>\n",
       "      <td>2.097150e+06</td>\n",
       "      <td>2.097150e+06</td>\n",
       "      <td>2.097150e+06</td>\n",
       "      <td>2.097150e+06</td>\n",
       "      <td>2.097150e+06</td>\n",
       "      <td>2.097150e+06</td>\n",
       "      <td>2.097150e+06</td>\n",
       "      <td>2.097150e+06</td>\n",
       "      <td>2.097150e+06</td>\n",
       "      <td>2097150.0</td>\n",
       "    </tr>\n",
       "    <tr>\n",
       "      <th>mean</th>\n",
       "      <td>2.860975e-07</td>\n",
       "      <td>2.240451e-07</td>\n",
       "      <td>2.069632e-07</td>\n",
       "      <td>2.165756e-07</td>\n",
       "      <td>1.987710e-07</td>\n",
       "      <td>1.810135e-07</td>\n",
       "      <td>2.261609e-07</td>\n",
       "      <td>2.413503e-07</td>\n",
       "      <td>2.743237e-07</td>\n",
       "      <td>2.484646e-07</td>\n",
       "      <td>...</td>\n",
       "      <td>2.118669e-07</td>\n",
       "      <td>2.020708e-07</td>\n",
       "      <td>2.019599e-07</td>\n",
       "      <td>2.165306e-07</td>\n",
       "      <td>2.152381e-07</td>\n",
       "      <td>2.127722e-07</td>\n",
       "      <td>1.954902e-07</td>\n",
       "      <td>1.545795e-07</td>\n",
       "      <td>1.545795e-07</td>\n",
       "      <td>0.5</td>\n",
       "    </tr>\n",
       "    <tr>\n",
       "      <th>std</th>\n",
       "      <td>1.286452e-04</td>\n",
       "      <td>1.002525e-04</td>\n",
       "      <td>1.040703e-04</td>\n",
       "      <td>1.025700e-04</td>\n",
       "      <td>1.311180e-04</td>\n",
       "      <td>1.213935e-04</td>\n",
       "      <td>1.361053e-04</td>\n",
       "      <td>1.169298e-04</td>\n",
       "      <td>1.328822e-04</td>\n",
       "      <td>1.335183e-04</td>\n",
       "      <td>...</td>\n",
       "      <td>1.207950e-04</td>\n",
       "      <td>1.123623e-04</td>\n",
       "      <td>1.205056e-04</td>\n",
       "      <td>1.303979e-04</td>\n",
       "      <td>1.101623e-04</td>\n",
       "      <td>1.093535e-04</td>\n",
       "      <td>1.303979e-04</td>\n",
       "      <td>1.192673e-04</td>\n",
       "      <td>1.192673e-04</td>\n",
       "      <td>0.5</td>\n",
       "    </tr>\n",
       "    <tr>\n",
       "      <th>min</th>\n",
       "      <td>-1.504078e-03</td>\n",
       "      <td>-1.349451e-03</td>\n",
       "      <td>-1.486105e-03</td>\n",
       "      <td>-1.452894e-03</td>\n",
       "      <td>-1.585348e-03</td>\n",
       "      <td>-2.055678e-03</td>\n",
       "      <td>-1.465006e-03</td>\n",
       "      <td>-1.427497e-03</td>\n",
       "      <td>-1.495092e-03</td>\n",
       "      <td>-1.344664e-03</td>\n",
       "      <td>...</td>\n",
       "      <td>-1.647082e-03</td>\n",
       "      <td>-1.502515e-03</td>\n",
       "      <td>-1.511795e-03</td>\n",
       "      <td>-1.685763e-03</td>\n",
       "      <td>-1.629890e-03</td>\n",
       "      <td>-2.631209e-03</td>\n",
       "      <td>-1.611136e-03</td>\n",
       "      <td>-1.874481e-03</td>\n",
       "      <td>-1.874481e-03</td>\n",
       "      <td>0.0</td>\n",
       "    </tr>\n",
       "    <tr>\n",
       "      <th>25%</th>\n",
       "      <td>-4.480000e-05</td>\n",
       "      <td>-3.180000e-05</td>\n",
       "      <td>-3.150000e-05</td>\n",
       "      <td>-3.460000e-05</td>\n",
       "      <td>-4.120000e-05</td>\n",
       "      <td>-3.500000e-05</td>\n",
       "      <td>-4.860000e-05</td>\n",
       "      <td>-4.040000e-05</td>\n",
       "      <td>-4.860000e-05</td>\n",
       "      <td>-4.630000e-05</td>\n",
       "      <td>...</td>\n",
       "      <td>-3.850000e-05</td>\n",
       "      <td>-3.690000e-05</td>\n",
       "      <td>-4.200000e-05</td>\n",
       "      <td>-4.360000e-05</td>\n",
       "      <td>-3.690000e-05</td>\n",
       "      <td>-3.540000e-05</td>\n",
       "      <td>-4.200000e-05</td>\n",
       "      <td>-4.040000e-05</td>\n",
       "      <td>-4.040000e-05</td>\n",
       "      <td>0.0</td>\n",
       "    </tr>\n",
       "    <tr>\n",
       "      <th>50%</th>\n",
       "      <td>-1.950000e-07</td>\n",
       "      <td>1.950000e-07</td>\n",
       "      <td>1.950000e-07</td>\n",
       "      <td>1.950000e-07</td>\n",
       "      <td>1.950000e-07</td>\n",
       "      <td>1.950000e-07</td>\n",
       "      <td>1.950000e-07</td>\n",
       "      <td>1.950000e-07</td>\n",
       "      <td>-5.860000e-07</td>\n",
       "      <td>-5.860000e-07</td>\n",
       "      <td>...</td>\n",
       "      <td>1.950000e-07</td>\n",
       "      <td>1.950000e-07</td>\n",
       "      <td>1.950000e-07</td>\n",
       "      <td>1.950000e-07</td>\n",
       "      <td>1.950000e-07</td>\n",
       "      <td>1.950000e-07</td>\n",
       "      <td>2.930000e-07</td>\n",
       "      <td>2.930000e-07</td>\n",
       "      <td>2.930000e-07</td>\n",
       "      <td>0.5</td>\n",
       "    </tr>\n",
       "    <tr>\n",
       "      <th>75%</th>\n",
       "      <td>4.200000e-05</td>\n",
       "      <td>3.260000e-05</td>\n",
       "      <td>3.110000e-05</td>\n",
       "      <td>3.500000e-05</td>\n",
       "      <td>4.190000e-05</td>\n",
       "      <td>3.580000e-05</td>\n",
       "      <td>4.790000e-05</td>\n",
       "      <td>4.000000e-05</td>\n",
       "      <td>4.510000e-05</td>\n",
       "      <td>4.200000e-05</td>\n",
       "      <td>...</td>\n",
       "      <td>3.890000e-05</td>\n",
       "      <td>3.770000e-05</td>\n",
       "      <td>4.120000e-05</td>\n",
       "      <td>4.240000e-05</td>\n",
       "      <td>3.690000e-05</td>\n",
       "      <td>3.540000e-05</td>\n",
       "      <td>4.400000e-05</td>\n",
       "      <td>4.200000e-05</td>\n",
       "      <td>4.200000e-05</td>\n",
       "      <td>1.0</td>\n",
       "    </tr>\n",
       "    <tr>\n",
       "      <th>max</th>\n",
       "      <td>1.465788e-03</td>\n",
       "      <td>1.682247e-03</td>\n",
       "      <td>1.950183e-03</td>\n",
       "      <td>1.960440e-03</td>\n",
       "      <td>1.799463e-03</td>\n",
       "      <td>1.707546e-03</td>\n",
       "      <td>1.663492e-03</td>\n",
       "      <td>1.473993e-03</td>\n",
       "      <td>1.383736e-03</td>\n",
       "      <td>1.800147e-03</td>\n",
       "      <td>...</td>\n",
       "      <td>1.763516e-03</td>\n",
       "      <td>1.536899e-03</td>\n",
       "      <td>1.296215e-03</td>\n",
       "      <td>1.611526e-03</td>\n",
       "      <td>1.471258e-03</td>\n",
       "      <td>2.630037e-03</td>\n",
       "      <td>1.686154e-03</td>\n",
       "      <td>1.551355e-03</td>\n",
       "      <td>1.551355e-03</td>\n",
       "      <td>1.0</td>\n",
       "    </tr>\n",
       "  </tbody>\n",
       "</table>\n",
       "<p>8 rows × 24 columns</p>\n",
       "</div>"
      ],
      "text/plain": [
       "           # FP1-F7         C3-P3         C4-P4         CZ-PZ         F3-C3  \\\n",
       "count  2.097150e+06  2.097150e+06  2.097150e+06  2.097150e+06  2.097150e+06   \n",
       "mean   2.860975e-07  2.240451e-07  2.069632e-07  2.165756e-07  1.987710e-07   \n",
       "std    1.286452e-04  1.002525e-04  1.040703e-04  1.025700e-04  1.311180e-04   \n",
       "min   -1.504078e-03 -1.349451e-03 -1.486105e-03 -1.452894e-03 -1.585348e-03   \n",
       "25%   -4.480000e-05 -3.180000e-05 -3.150000e-05 -3.460000e-05 -4.120000e-05   \n",
       "50%   -1.950000e-07  1.950000e-07  1.950000e-07  1.950000e-07  1.950000e-07   \n",
       "75%    4.200000e-05  3.260000e-05  3.110000e-05  3.500000e-05  4.190000e-05   \n",
       "max    1.465788e-03  1.682247e-03  1.950183e-03  1.960440e-03  1.799463e-03   \n",
       "\n",
       "              F4-C4         F7-T7         F8-T8        FP1-F3        FP2-F4  \\\n",
       "count  2.097150e+06  2.097150e+06  2.097150e+06  2.097150e+06  2.097150e+06   \n",
       "mean   1.810135e-07  2.261609e-07  2.413503e-07  2.743237e-07  2.484646e-07   \n",
       "std    1.213935e-04  1.361053e-04  1.169298e-04  1.328822e-04  1.335183e-04   \n",
       "min   -2.055678e-03 -1.465006e-03 -1.427497e-03 -1.495092e-03 -1.344664e-03   \n",
       "25%   -3.500000e-05 -4.860000e-05 -4.040000e-05 -4.860000e-05 -4.630000e-05   \n",
       "50%    1.950000e-07  1.950000e-07  1.950000e-07 -5.860000e-07 -5.860000e-07   \n",
       "75%    3.580000e-05  4.790000e-05  4.000000e-05  4.510000e-05  4.200000e-05   \n",
       "max    1.707546e-03  1.663492e-03  1.473993e-03  1.383736e-03  1.800147e-03   \n",
       "\n",
       "       ...         P3-O1         P4-O2         P7-O1         P7-T7  \\\n",
       "count  ...  2.097150e+06  2.097150e+06  2.097150e+06  2.097150e+06   \n",
       "mean   ...  2.118669e-07  2.020708e-07  2.019599e-07  2.165306e-07   \n",
       "std    ...  1.207950e-04  1.123623e-04  1.205056e-04  1.303979e-04   \n",
       "min    ... -1.647082e-03 -1.502515e-03 -1.511795e-03 -1.685763e-03   \n",
       "25%    ... -3.850000e-05 -3.690000e-05 -4.200000e-05 -4.360000e-05   \n",
       "50%    ...  1.950000e-07  1.950000e-07  1.950000e-07  1.950000e-07   \n",
       "75%    ...  3.890000e-05  3.770000e-05  4.120000e-05  4.240000e-05   \n",
       "max    ...  1.763516e-03  1.536899e-03  1.296215e-03  1.611526e-03   \n",
       "\n",
       "              P8-O2        T7-FT9         T7-P7       T8-P8-0       T8-P8-1  \\\n",
       "count  2.097150e+06  2.097150e+06  2.097150e+06  2.097150e+06  2.097150e+06   \n",
       "mean   2.152381e-07  2.127722e-07  1.954902e-07  1.545795e-07  1.545795e-07   \n",
       "std    1.101623e-04  1.093535e-04  1.303979e-04  1.192673e-04  1.192673e-04   \n",
       "min   -1.629890e-03 -2.631209e-03 -1.611136e-03 -1.874481e-03 -1.874481e-03   \n",
       "25%   -3.690000e-05 -3.540000e-05 -4.200000e-05 -4.040000e-05 -4.040000e-05   \n",
       "50%    1.950000e-07  1.950000e-07  2.930000e-07  2.930000e-07  2.930000e-07   \n",
       "75%    3.690000e-05  3.540000e-05  4.400000e-05  4.200000e-05  4.200000e-05   \n",
       "max    1.471258e-03  2.630037e-03  1.686154e-03  1.551355e-03  1.551355e-03   \n",
       "\n",
       "         Outcome  \n",
       "count  2097150.0  \n",
       "mean         0.5  \n",
       "std          0.5  \n",
       "min          0.0  \n",
       "25%          0.0  \n",
       "50%          0.5  \n",
       "75%          1.0  \n",
       "max          1.0  \n",
       "\n",
       "[8 rows x 24 columns]"
      ]
     },
     "execution_count": 13,
     "metadata": {},
     "output_type": "execute_result"
    }
   ],
   "source": [
    "df.describe()"
   ]
  },
  {
   "cell_type": "code",
   "execution_count": 14,
   "metadata": {},
   "outputs": [
    {
     "data": {
      "text/html": [
       "<div>\n",
       "<style scoped>\n",
       "    .dataframe tbody tr th:only-of-type {\n",
       "        vertical-align: middle;\n",
       "    }\n",
       "\n",
       "    .dataframe tbody tr th {\n",
       "        vertical-align: top;\n",
       "    }\n",
       "\n",
       "    .dataframe thead th {\n",
       "        text-align: right;\n",
       "    }\n",
       "</style>\n",
       "<table border=\"1\" class=\"dataframe\">\n",
       "  <thead>\n",
       "    <tr style=\"text-align: right;\">\n",
       "      <th></th>\n",
       "      <th># FP1-F7</th>\n",
       "      <th>C3-P3</th>\n",
       "      <th>C4-P4</th>\n",
       "      <th>CZ-PZ</th>\n",
       "      <th>F3-C3</th>\n",
       "      <th>F4-C4</th>\n",
       "      <th>F7-T7</th>\n",
       "      <th>F8-T8</th>\n",
       "      <th>FP1-F3</th>\n",
       "      <th>FP2-F4</th>\n",
       "      <th>...</th>\n",
       "      <th>P3-O1</th>\n",
       "      <th>P4-O2</th>\n",
       "      <th>P7-O1</th>\n",
       "      <th>P7-T7</th>\n",
       "      <th>P8-O2</th>\n",
       "      <th>T7-FT9</th>\n",
       "      <th>T7-P7</th>\n",
       "      <th>T8-P8-0</th>\n",
       "      <th>T8-P8-1</th>\n",
       "      <th>Outcome</th>\n",
       "    </tr>\n",
       "  </thead>\n",
       "  <tbody>\n",
       "    <tr>\n",
       "      <th>0</th>\n",
       "      <td>0.000020</td>\n",
       "      <td>0.000010</td>\n",
       "      <td>0.000022</td>\n",
       "      <td>0.000037</td>\n",
       "      <td>0.000032</td>\n",
       "      <td>0.000035</td>\n",
       "      <td>0.000016</td>\n",
       "      <td>0.000046</td>\n",
       "      <td>-0.000007</td>\n",
       "      <td>0.000043</td>\n",
       "      <td>...</td>\n",
       "      <td>0.000024</td>\n",
       "      <td>-0.000030</td>\n",
       "      <td>0.000010</td>\n",
       "      <td>-0.000011</td>\n",
       "      <td>-0.000037</td>\n",
       "      <td>0.000008</td>\n",
       "      <td>0.000012</td>\n",
       "      <td>0.000021</td>\n",
       "      <td>0.000021</td>\n",
       "      <td>0.0</td>\n",
       "    </tr>\n",
       "    <tr>\n",
       "      <th>1</th>\n",
       "      <td>0.000022</td>\n",
       "      <td>0.000008</td>\n",
       "      <td>0.000021</td>\n",
       "      <td>0.000039</td>\n",
       "      <td>0.000030</td>\n",
       "      <td>0.000032</td>\n",
       "      <td>0.000015</td>\n",
       "      <td>0.000039</td>\n",
       "      <td>-0.000006</td>\n",
       "      <td>0.000042</td>\n",
       "      <td>...</td>\n",
       "      <td>0.000026</td>\n",
       "      <td>-0.000017</td>\n",
       "      <td>0.000012</td>\n",
       "      <td>-0.000008</td>\n",
       "      <td>-0.000029</td>\n",
       "      <td>0.000010</td>\n",
       "      <td>0.000009</td>\n",
       "      <td>0.000023</td>\n",
       "      <td>0.000023</td>\n",
       "      <td>0.0</td>\n",
       "    </tr>\n",
       "    <tr>\n",
       "      <th>2</th>\n",
       "      <td>0.000021</td>\n",
       "      <td>0.000012</td>\n",
       "      <td>0.000021</td>\n",
       "      <td>0.000040</td>\n",
       "      <td>0.000025</td>\n",
       "      <td>0.000030</td>\n",
       "      <td>0.000013</td>\n",
       "      <td>0.000036</td>\n",
       "      <td>-0.000006</td>\n",
       "      <td>0.000040</td>\n",
       "      <td>...</td>\n",
       "      <td>0.000027</td>\n",
       "      <td>-0.000018</td>\n",
       "      <td>0.000014</td>\n",
       "      <td>-0.000009</td>\n",
       "      <td>-0.000034</td>\n",
       "      <td>0.000012</td>\n",
       "      <td>0.000009</td>\n",
       "      <td>0.000027</td>\n",
       "      <td>0.000027</td>\n",
       "      <td>0.0</td>\n",
       "    </tr>\n",
       "    <tr>\n",
       "      <th>3</th>\n",
       "      <td>0.000019</td>\n",
       "      <td>0.000012</td>\n",
       "      <td>0.000021</td>\n",
       "      <td>0.000039</td>\n",
       "      <td>0.000023</td>\n",
       "      <td>0.000028</td>\n",
       "      <td>0.000013</td>\n",
       "      <td>0.000035</td>\n",
       "      <td>-0.000008</td>\n",
       "      <td>0.000036</td>\n",
       "      <td>...</td>\n",
       "      <td>0.000030</td>\n",
       "      <td>-0.000024</td>\n",
       "      <td>0.000015</td>\n",
       "      <td>-0.000009</td>\n",
       "      <td>-0.000042</td>\n",
       "      <td>0.000009</td>\n",
       "      <td>0.000010</td>\n",
       "      <td>0.000033</td>\n",
       "      <td>0.000033</td>\n",
       "      <td>0.0</td>\n",
       "    </tr>\n",
       "    <tr>\n",
       "      <th>4</th>\n",
       "      <td>0.000019</td>\n",
       "      <td>0.000012</td>\n",
       "      <td>0.000021</td>\n",
       "      <td>0.000036</td>\n",
       "      <td>0.000023</td>\n",
       "      <td>0.000024</td>\n",
       "      <td>0.000012</td>\n",
       "      <td>0.000024</td>\n",
       "      <td>-0.000009</td>\n",
       "      <td>0.000032</td>\n",
       "      <td>...</td>\n",
       "      <td>0.000032</td>\n",
       "      <td>-0.000014</td>\n",
       "      <td>0.000017</td>\n",
       "      <td>-0.000008</td>\n",
       "      <td>-0.000031</td>\n",
       "      <td>0.000009</td>\n",
       "      <td>0.000008</td>\n",
       "      <td>0.000035</td>\n",
       "      <td>0.000035</td>\n",
       "      <td>0.0</td>\n",
       "    </tr>\n",
       "    <tr>\n",
       "      <th>...</th>\n",
       "      <td>...</td>\n",
       "      <td>...</td>\n",
       "      <td>...</td>\n",
       "      <td>...</td>\n",
       "      <td>...</td>\n",
       "      <td>...</td>\n",
       "      <td>...</td>\n",
       "      <td>...</td>\n",
       "      <td>...</td>\n",
       "      <td>...</td>\n",
       "      <td>...</td>\n",
       "      <td>...</td>\n",
       "      <td>...</td>\n",
       "      <td>...</td>\n",
       "      <td>...</td>\n",
       "      <td>...</td>\n",
       "      <td>...</td>\n",
       "      <td>...</td>\n",
       "      <td>...</td>\n",
       "      <td>...</td>\n",
       "      <td>...</td>\n",
       "    </tr>\n",
       "    <tr>\n",
       "      <th>2097145</th>\n",
       "      <td>0.000081</td>\n",
       "      <td>0.000047</td>\n",
       "      <td>0.000087</td>\n",
       "      <td>0.000074</td>\n",
       "      <td>0.000113</td>\n",
       "      <td>0.000063</td>\n",
       "      <td>0.000129</td>\n",
       "      <td>-0.000037</td>\n",
       "      <td>0.000102</td>\n",
       "      <td>-0.000106</td>\n",
       "      <td>...</td>\n",
       "      <td>-0.000036</td>\n",
       "      <td>0.000072</td>\n",
       "      <td>-0.000046</td>\n",
       "      <td>-0.000060</td>\n",
       "      <td>0.000070</td>\n",
       "      <td>-0.000169</td>\n",
       "      <td>0.000060</td>\n",
       "      <td>0.000070</td>\n",
       "      <td>0.000070</td>\n",
       "      <td>1.0</td>\n",
       "    </tr>\n",
       "    <tr>\n",
       "      <th>2097146</th>\n",
       "      <td>0.000093</td>\n",
       "      <td>0.000055</td>\n",
       "      <td>0.000087</td>\n",
       "      <td>0.000082</td>\n",
       "      <td>0.000133</td>\n",
       "      <td>0.000058</td>\n",
       "      <td>0.000133</td>\n",
       "      <td>-0.000036</td>\n",
       "      <td>0.000088</td>\n",
       "      <td>-0.000115</td>\n",
       "      <td>...</td>\n",
       "      <td>-0.000031</td>\n",
       "      <td>0.000087</td>\n",
       "      <td>-0.000049</td>\n",
       "      <td>-0.000067</td>\n",
       "      <td>0.000076</td>\n",
       "      <td>-0.000152</td>\n",
       "      <td>0.000068</td>\n",
       "      <td>0.000063</td>\n",
       "      <td>0.000063</td>\n",
       "      <td>1.0</td>\n",
       "    </tr>\n",
       "    <tr>\n",
       "      <th>2097147</th>\n",
       "      <td>0.000110</td>\n",
       "      <td>0.000061</td>\n",
       "      <td>0.000078</td>\n",
       "      <td>0.000085</td>\n",
       "      <td>0.000146</td>\n",
       "      <td>0.000049</td>\n",
       "      <td>0.000130</td>\n",
       "      <td>-0.000036</td>\n",
       "      <td>0.000076</td>\n",
       "      <td>-0.000119</td>\n",
       "      <td>...</td>\n",
       "      <td>-0.000033</td>\n",
       "      <td>0.000106</td>\n",
       "      <td>-0.000058</td>\n",
       "      <td>-0.000067</td>\n",
       "      <td>0.000075</td>\n",
       "      <td>-0.000145</td>\n",
       "      <td>0.000067</td>\n",
       "      <td>0.000062</td>\n",
       "      <td>0.000062</td>\n",
       "      <td>1.0</td>\n",
       "    </tr>\n",
       "    <tr>\n",
       "      <th>2097148</th>\n",
       "      <td>0.000133</td>\n",
       "      <td>0.000068</td>\n",
       "      <td>0.000082</td>\n",
       "      <td>0.000085</td>\n",
       "      <td>0.000157</td>\n",
       "      <td>0.000040</td>\n",
       "      <td>0.000123</td>\n",
       "      <td>-0.000033</td>\n",
       "      <td>0.000067</td>\n",
       "      <td>-0.000124</td>\n",
       "      <td>...</td>\n",
       "      <td>-0.000036</td>\n",
       "      <td>0.000107</td>\n",
       "      <td>-0.000073</td>\n",
       "      <td>-0.000073</td>\n",
       "      <td>0.000068</td>\n",
       "      <td>-0.000129</td>\n",
       "      <td>0.000073</td>\n",
       "      <td>0.000056</td>\n",
       "      <td>0.000056</td>\n",
       "      <td>1.0</td>\n",
       "    </tr>\n",
       "    <tr>\n",
       "      <th>2097149</th>\n",
       "      <td>0.000144</td>\n",
       "      <td>0.000070</td>\n",
       "      <td>0.000078</td>\n",
       "      <td>0.000085</td>\n",
       "      <td>0.000166</td>\n",
       "      <td>0.000027</td>\n",
       "      <td>0.000117</td>\n",
       "      <td>-0.000033</td>\n",
       "      <td>0.000052</td>\n",
       "      <td>-0.000126</td>\n",
       "      <td>...</td>\n",
       "      <td>-0.000033</td>\n",
       "      <td>0.000114</td>\n",
       "      <td>-0.000087</td>\n",
       "      <td>-0.000081</td>\n",
       "      <td>0.000065</td>\n",
       "      <td>-0.000104</td>\n",
       "      <td>0.000081</td>\n",
       "      <td>0.000048</td>\n",
       "      <td>0.000048</td>\n",
       "      <td>1.0</td>\n",
       "    </tr>\n",
       "  </tbody>\n",
       "</table>\n",
       "<p>2097150 rows × 24 columns</p>\n",
       "</div>"
      ],
      "text/plain": [
       "         # FP1-F7     C3-P3     C4-P4     CZ-PZ     F3-C3     F4-C4     F7-T7  \\\n",
       "0        0.000020  0.000010  0.000022  0.000037  0.000032  0.000035  0.000016   \n",
       "1        0.000022  0.000008  0.000021  0.000039  0.000030  0.000032  0.000015   \n",
       "2        0.000021  0.000012  0.000021  0.000040  0.000025  0.000030  0.000013   \n",
       "3        0.000019  0.000012  0.000021  0.000039  0.000023  0.000028  0.000013   \n",
       "4        0.000019  0.000012  0.000021  0.000036  0.000023  0.000024  0.000012   \n",
       "...           ...       ...       ...       ...       ...       ...       ...   \n",
       "2097145  0.000081  0.000047  0.000087  0.000074  0.000113  0.000063  0.000129   \n",
       "2097146  0.000093  0.000055  0.000087  0.000082  0.000133  0.000058  0.000133   \n",
       "2097147  0.000110  0.000061  0.000078  0.000085  0.000146  0.000049  0.000130   \n",
       "2097148  0.000133  0.000068  0.000082  0.000085  0.000157  0.000040  0.000123   \n",
       "2097149  0.000144  0.000070  0.000078  0.000085  0.000166  0.000027  0.000117   \n",
       "\n",
       "            F8-T8    FP1-F3    FP2-F4  ...     P3-O1     P4-O2     P7-O1  \\\n",
       "0        0.000046 -0.000007  0.000043  ...  0.000024 -0.000030  0.000010   \n",
       "1        0.000039 -0.000006  0.000042  ...  0.000026 -0.000017  0.000012   \n",
       "2        0.000036 -0.000006  0.000040  ...  0.000027 -0.000018  0.000014   \n",
       "3        0.000035 -0.000008  0.000036  ...  0.000030 -0.000024  0.000015   \n",
       "4        0.000024 -0.000009  0.000032  ...  0.000032 -0.000014  0.000017   \n",
       "...           ...       ...       ...  ...       ...       ...       ...   \n",
       "2097145 -0.000037  0.000102 -0.000106  ... -0.000036  0.000072 -0.000046   \n",
       "2097146 -0.000036  0.000088 -0.000115  ... -0.000031  0.000087 -0.000049   \n",
       "2097147 -0.000036  0.000076 -0.000119  ... -0.000033  0.000106 -0.000058   \n",
       "2097148 -0.000033  0.000067 -0.000124  ... -0.000036  0.000107 -0.000073   \n",
       "2097149 -0.000033  0.000052 -0.000126  ... -0.000033  0.000114 -0.000087   \n",
       "\n",
       "            P7-T7     P8-O2    T7-FT9     T7-P7   T8-P8-0   T8-P8-1  Outcome  \n",
       "0       -0.000011 -0.000037  0.000008  0.000012  0.000021  0.000021      0.0  \n",
       "1       -0.000008 -0.000029  0.000010  0.000009  0.000023  0.000023      0.0  \n",
       "2       -0.000009 -0.000034  0.000012  0.000009  0.000027  0.000027      0.0  \n",
       "3       -0.000009 -0.000042  0.000009  0.000010  0.000033  0.000033      0.0  \n",
       "4       -0.000008 -0.000031  0.000009  0.000008  0.000035  0.000035      0.0  \n",
       "...           ...       ...       ...       ...       ...       ...      ...  \n",
       "2097145 -0.000060  0.000070 -0.000169  0.000060  0.000070  0.000070      1.0  \n",
       "2097146 -0.000067  0.000076 -0.000152  0.000068  0.000063  0.000063      1.0  \n",
       "2097147 -0.000067  0.000075 -0.000145  0.000067  0.000062  0.000062      1.0  \n",
       "2097148 -0.000073  0.000068 -0.000129  0.000073  0.000056  0.000056      1.0  \n",
       "2097149 -0.000081  0.000065 -0.000104  0.000081  0.000048  0.000048      1.0  \n",
       "\n",
       "[2097150 rows x 24 columns]"
      ]
     },
     "execution_count": 14,
     "metadata": {},
     "output_type": "execute_result"
    }
   ],
   "source": [
    "df.dropna(axis = 1)"
   ]
  },
  {
   "cell_type": "code",
   "execution_count": 15,
   "metadata": {},
   "outputs": [],
   "source": [
    "# Function to remove outlying values that lie > 3 standard deviations away from the mean\n",
    "def remove_outliers(df, columns, n_std):\n",
    "    for col in columns:\n",
    "        print('Working on column: {}'.format(col))\n",
    "        \n",
    "        mean = df[col].mean() # mean\n",
    "        sd = df[col].std() # standard deviation\n",
    "        \n",
    "        df = df[(df[col] <= mean+(n_std*sd))] # criteria\n",
    "        \n",
    "    return df"
   ]
  },
  {
   "cell_type": "code",
   "execution_count": 16,
   "metadata": {},
   "outputs": [
    {
     "name": "stdout",
     "output_type": "stream",
     "text": [
      "Working on column: # FP1-F7\n",
      "Working on column: C3-P3\n",
      "Working on column: C4-P4\n",
      "Working on column: CZ-PZ\n",
      "Working on column: F3-C3\n",
      "Working on column: F4-C4\n",
      "Working on column: F7-T7\n",
      "Working on column: F8-T8\n",
      "Working on column: FP1-F3\n",
      "Working on column: FP2-F4\n",
      "Working on column: FP2-F8\n",
      "Working on column: FT10-T8\n",
      "Working on column: FT9-FT10\n",
      "Working on column: FZ-CZ\n",
      "Working on column: P3-O1\n",
      "Working on column: P4-O2\n",
      "Working on column: P7-O1\n",
      "Working on column: P7-T7\n",
      "Working on column: P8-O2\n",
      "Working on column: T7-FT9\n",
      "Working on column: T7-P7\n",
      "Working on column: T8-P8-0\n",
      "Working on column: T8-P8-1\n"
     ]
    }
   ],
   "source": [
    "columns = ['# FP1-F7', 'C3-P3', 'C4-P4', 'CZ-PZ', 'F3-C3', 'F4-C4', 'F7-T7',\n",
    "       'F8-T8', 'FP1-F3', 'FP2-F4', 'FP2-F8', 'FT10-T8', 'FT9-FT10', 'FZ-CZ',\n",
    "       'P3-O1', 'P4-O2', 'P7-O1', 'P7-T7', 'P8-O2', 'T7-FT9', 'T7-P7',\n",
    "       'T8-P8-0', 'T8-P8-1']\n",
    "df = remove_outliers(df, columns, 3)\n"
   ]
  },
  {
   "cell_type": "code",
   "execution_count": 16,
   "metadata": {},
   "outputs": [],
   "source": [
    "df_copy = df.copy()"
   ]
  },
  {
   "cell_type": "code",
   "execution_count": 17,
   "metadata": {},
   "outputs": [
    {
     "data": {
      "text/plain": [
       "Index(['# FP1-F7', 'C3-P3', 'C4-P4', 'CZ-PZ', 'F3-C3', 'F4-C4', 'F7-T7',\n",
       "       'F8-T8', 'FP1-F3', 'FP2-F4', 'FP2-F8', 'FT10-T8', 'FT9-FT10', 'FZ-CZ',\n",
       "       'P3-O1', 'P4-O2', 'P7-O1', 'P7-T7', 'P8-O2', 'T7-FT9', 'T7-P7',\n",
       "       'T8-P8-0', 'T8-P8-1', 'Outcome'],\n",
       "      dtype='object')"
      ]
     },
     "execution_count": 17,
     "metadata": {},
     "output_type": "execute_result"
    }
   ],
   "source": [
    "df.columns"
   ]
  },
  {
   "cell_type": "code",
   "execution_count": 18,
   "metadata": {},
   "outputs": [
    {
     "name": "stdout",
     "output_type": "stream",
     "text": [
      "1.1.2\n"
     ]
    }
   ],
   "source": [
    "import sklearn\n",
    "print(sklearn.__version__)"
   ]
  },
  {
   "cell_type": "code",
   "execution_count": 19,
   "metadata": {},
   "outputs": [
    {
     "name": "stdout",
     "output_type": "stream",
     "text": [
      "(1708537, 23) (1708537, 1)\n"
     ]
    }
   ],
   "source": [
    "# test classification dataset\n",
    "from sklearn.datasets import make_classification\n",
    "# define dataset\n",
    "y = df.iloc[:,23:]\n",
    "X = df.iloc[:,:23]\n",
    "# summarize the dataset\n",
    "print(X.shape, y.shape)"
   ]
  },
  {
   "cell_type": "code",
   "execution_count": 20,
   "metadata": {},
   "outputs": [
    {
     "name": "stdout",
     "output_type": "stream",
     "text": [
      "Feature: 0, Score: 0.03597\n",
      "Feature: 1, Score: 0.03615\n",
      "Feature: 2, Score: 0.14851\n",
      "Feature: 3, Score: 0.04899\n",
      "Feature: 4, Score: 0.03699\n",
      "Feature: 5, Score: 0.03608\n",
      "Feature: 6, Score: 0.05759\n",
      "Feature: 7, Score: 0.03377\n",
      "Feature: 8, Score: 0.03670\n",
      "Feature: 9, Score: 0.03090\n",
      "Feature: 10, Score: 0.03025\n",
      "Feature: 11, Score: 0.03578\n",
      "Feature: 12, Score: 0.11186\n",
      "Feature: 13, Score: 0.04768\n",
      "Feature: 14, Score: 0.03589\n",
      "Feature: 15, Score: 0.03664\n",
      "Feature: 16, Score: 0.03497\n",
      "Feature: 17, Score: 0.02056\n",
      "Feature: 18, Score: 0.03078\n",
      "Feature: 19, Score: 0.04956\n",
      "Feature: 20, Score: 0.02810\n",
      "Feature: 21, Score: 0.01953\n",
      "Feature: 22, Score: 0.01676\n"
     ]
    },
    {
     "data": {
      "image/png": "[encoded data removed]",
      "text/plain": [
       "<Figure size 432x288 with 1 Axes>"
      ]
     },
     "metadata": {
      "needs_background": "light"
     },
     "output_type": "display_data"
    }
   ],
   "source": [
    "# decision tree for feature importance on a classification problem\n",
    "from sklearn.datasets import make_classification\n",
    "from sklearn.tree import DecisionTreeClassifier\n",
    "from matplotlib import pyplot\n",
    "# define dataset\n",
    "# define the model\n",
    "model = DecisionTreeClassifier()\n",
    "# fit the model\n",
    "model.fit(X, y)\n",
    "# get importance\n",
    "importance = model.feature_importances_\n",
    "# summarize feature importance\n",
    "for i,v in enumerate(importance):\n",
    " print('Feature: %0d, Score: %.5f' % (i,v))\n",
    "# plot feature importance\n",
    "pyplot.bar([x for x in range(len(importance))], importance)\n",
    "pyplot.show()"
   ]
  },
  {
   "cell_type": "code",
   "execution_count": 17,
   "metadata": {},
   "outputs": [],
   "source": [
    "df = df.drop('P7-T7',1)"
   ]
  },
  {
   "cell_type": "code",
   "execution_count": 18,
   "metadata": {},
   "outputs": [],
   "source": [
    "df = df.drop('T7-P7',1)"
   ]
  },
  {
   "cell_type": "code",
   "execution_count": 19,
   "metadata": {},
   "outputs": [],
   "source": [
    "df = df.drop('T8-P8-0',1)"
   ]
  },
  {
   "cell_type": "code",
   "execution_count": 20,
   "metadata": {},
   "outputs": [],
   "source": [
    "df = df.drop('T8-P8-1',1)"
   ]
  },
  {
   "cell_type": "markdown",
   "metadata": {},
   "source": [
    "removed all columns with feature importance less than 0.03"
   ]
  },
  {
   "cell_type": "code",
   "execution_count": 25,
   "metadata": {},
   "outputs": [
    {
     "data": {
      "text/plain": [
       "(1708537, 20)"
      ]
     },
     "execution_count": 25,
     "metadata": {},
     "output_type": "execute_result"
    }
   ],
   "source": [
    "df.shape"
   ]
  },
  {
   "cell_type": "code",
   "execution_count": 26,
   "metadata": {},
   "outputs": [],
   "source": [
    "y = df.iloc[:,19:]\n",
    "X = df.iloc[:,:19]"
   ]
  },
  {
   "cell_type": "code",
   "execution_count": 27,
   "metadata": {},
   "outputs": [
    {
     "data": {
      "text/html": [
       "<div>\n",
       "<style scoped>\n",
       "    .dataframe tbody tr th:only-of-type {\n",
       "        vertical-align: middle;\n",
       "    }\n",
       "\n",
       "    .dataframe tbody tr th {\n",
       "        vertical-align: top;\n",
       "    }\n",
       "\n",
       "    .dataframe thead th {\n",
       "        text-align: right;\n",
       "    }\n",
       "</style>\n",
       "<table border=\"1\" class=\"dataframe\">\n",
       "  <thead>\n",
       "    <tr style=\"text-align: right;\">\n",
       "      <th></th>\n",
       "      <th>Outcome</th>\n",
       "    </tr>\n",
       "  </thead>\n",
       "  <tbody>\n",
       "    <tr>\n",
       "      <th>0</th>\n",
       "      <td>0.0</td>\n",
       "    </tr>\n",
       "    <tr>\n",
       "      <th>1</th>\n",
       "      <td>0.0</td>\n",
       "    </tr>\n",
       "    <tr>\n",
       "      <th>2</th>\n",
       "      <td>0.0</td>\n",
       "    </tr>\n",
       "    <tr>\n",
       "      <th>3</th>\n",
       "      <td>0.0</td>\n",
       "    </tr>\n",
       "    <tr>\n",
       "      <th>4</th>\n",
       "      <td>0.0</td>\n",
       "    </tr>\n",
       "    <tr>\n",
       "      <th>...</th>\n",
       "      <td>...</td>\n",
       "    </tr>\n",
       "    <tr>\n",
       "      <th>2097145</th>\n",
       "      <td>1.0</td>\n",
       "    </tr>\n",
       "    <tr>\n",
       "      <th>2097146</th>\n",
       "      <td>1.0</td>\n",
       "    </tr>\n",
       "    <tr>\n",
       "      <th>2097147</th>\n",
       "      <td>1.0</td>\n",
       "    </tr>\n",
       "    <tr>\n",
       "      <th>2097148</th>\n",
       "      <td>1.0</td>\n",
       "    </tr>\n",
       "    <tr>\n",
       "      <th>2097149</th>\n",
       "      <td>1.0</td>\n",
       "    </tr>\n",
       "  </tbody>\n",
       "</table>\n",
       "<p>1708537 rows × 1 columns</p>\n",
       "</div>"
      ],
      "text/plain": [
       "         Outcome\n",
       "0            0.0\n",
       "1            0.0\n",
       "2            0.0\n",
       "3            0.0\n",
       "4            0.0\n",
       "...          ...\n",
       "2097145      1.0\n",
       "2097146      1.0\n",
       "2097147      1.0\n",
       "2097148      1.0\n",
       "2097149      1.0\n",
       "\n",
       "[1708537 rows x 1 columns]"
      ]
     },
     "execution_count": 27,
     "metadata": {},
     "output_type": "execute_result"
    }
   ],
   "source": [
    "y"
   ]
  },
  {
   "cell_type": "code",
   "execution_count": 28,
   "metadata": {},
   "outputs": [
    {
     "data": {
      "text/html": [
       "<div>\n",
       "<style scoped>\n",
       "    .dataframe tbody tr th:only-of-type {\n",
       "        vertical-align: middle;\n",
       "    }\n",
       "\n",
       "    .dataframe tbody tr th {\n",
       "        vertical-align: top;\n",
       "    }\n",
       "\n",
       "    .dataframe thead th {\n",
       "        text-align: right;\n",
       "    }\n",
       "</style>\n",
       "<table border=\"1\" class=\"dataframe\">\n",
       "  <thead>\n",
       "    <tr style=\"text-align: right;\">\n",
       "      <th></th>\n",
       "      <th># FP1-F7</th>\n",
       "      <th>C3-P3</th>\n",
       "      <th>C4-P4</th>\n",
       "      <th>CZ-PZ</th>\n",
       "      <th>F3-C3</th>\n",
       "      <th>F4-C4</th>\n",
       "      <th>F7-T7</th>\n",
       "      <th>F8-T8</th>\n",
       "      <th>FP1-F3</th>\n",
       "      <th>FP2-F4</th>\n",
       "      <th>FP2-F8</th>\n",
       "      <th>FT10-T8</th>\n",
       "      <th>FT9-FT10</th>\n",
       "      <th>FZ-CZ</th>\n",
       "      <th>P3-O1</th>\n",
       "      <th>P4-O2</th>\n",
       "      <th>P7-O1</th>\n",
       "      <th>P8-O2</th>\n",
       "      <th>T7-FT9</th>\n",
       "    </tr>\n",
       "  </thead>\n",
       "  <tbody>\n",
       "    <tr>\n",
       "      <th>0</th>\n",
       "      <td>0.000020</td>\n",
       "      <td>0.000010</td>\n",
       "      <td>0.000022</td>\n",
       "      <td>0.000037</td>\n",
       "      <td>0.000032</td>\n",
       "      <td>0.000035</td>\n",
       "      <td>0.000016</td>\n",
       "      <td>0.000046</td>\n",
       "      <td>-0.000007</td>\n",
       "      <td>0.000043</td>\n",
       "      <td>0.000040</td>\n",
       "      <td>0.000013</td>\n",
       "      <td>-0.000014</td>\n",
       "      <td>3.380000e-05</td>\n",
       "      <td>0.000024</td>\n",
       "      <td>-0.000030</td>\n",
       "      <td>0.000010</td>\n",
       "      <td>-0.000037</td>\n",
       "      <td>0.000008</td>\n",
       "    </tr>\n",
       "    <tr>\n",
       "      <th>1</th>\n",
       "      <td>0.000022</td>\n",
       "      <td>0.000008</td>\n",
       "      <td>0.000021</td>\n",
       "      <td>0.000039</td>\n",
       "      <td>0.000030</td>\n",
       "      <td>0.000032</td>\n",
       "      <td>0.000015</td>\n",
       "      <td>0.000039</td>\n",
       "      <td>-0.000006</td>\n",
       "      <td>0.000042</td>\n",
       "      <td>0.000044</td>\n",
       "      <td>0.000012</td>\n",
       "      <td>-0.000015</td>\n",
       "      <td>3.070000e-05</td>\n",
       "      <td>0.000026</td>\n",
       "      <td>-0.000017</td>\n",
       "      <td>0.000012</td>\n",
       "      <td>-0.000029</td>\n",
       "      <td>0.000010</td>\n",
       "    </tr>\n",
       "    <tr>\n",
       "      <th>2</th>\n",
       "      <td>0.000021</td>\n",
       "      <td>0.000012</td>\n",
       "      <td>0.000021</td>\n",
       "      <td>0.000040</td>\n",
       "      <td>0.000025</td>\n",
       "      <td>0.000030</td>\n",
       "      <td>0.000013</td>\n",
       "      <td>0.000036</td>\n",
       "      <td>-0.000006</td>\n",
       "      <td>0.000040</td>\n",
       "      <td>0.000043</td>\n",
       "      <td>0.000010</td>\n",
       "      <td>-0.000013</td>\n",
       "      <td>2.910000e-05</td>\n",
       "      <td>0.000027</td>\n",
       "      <td>-0.000018</td>\n",
       "      <td>0.000014</td>\n",
       "      <td>-0.000034</td>\n",
       "      <td>0.000012</td>\n",
       "    </tr>\n",
       "    <tr>\n",
       "      <th>3</th>\n",
       "      <td>0.000019</td>\n",
       "      <td>0.000012</td>\n",
       "      <td>0.000021</td>\n",
       "      <td>0.000039</td>\n",
       "      <td>0.000023</td>\n",
       "      <td>0.000028</td>\n",
       "      <td>0.000013</td>\n",
       "      <td>0.000035</td>\n",
       "      <td>-0.000008</td>\n",
       "      <td>0.000036</td>\n",
       "      <td>0.000036</td>\n",
       "      <td>0.000009</td>\n",
       "      <td>-0.000012</td>\n",
       "      <td>2.830000e-05</td>\n",
       "      <td>0.000030</td>\n",
       "      <td>-0.000024</td>\n",
       "      <td>0.000015</td>\n",
       "      <td>-0.000042</td>\n",
       "      <td>0.000009</td>\n",
       "    </tr>\n",
       "    <tr>\n",
       "      <th>4</th>\n",
       "      <td>0.000019</td>\n",
       "      <td>0.000012</td>\n",
       "      <td>0.000021</td>\n",
       "      <td>0.000036</td>\n",
       "      <td>0.000023</td>\n",
       "      <td>0.000024</td>\n",
       "      <td>0.000012</td>\n",
       "      <td>0.000024</td>\n",
       "      <td>-0.000009</td>\n",
       "      <td>0.000032</td>\n",
       "      <td>0.000035</td>\n",
       "      <td>0.000006</td>\n",
       "      <td>-0.000015</td>\n",
       "      <td>2.910000e-05</td>\n",
       "      <td>0.000032</td>\n",
       "      <td>-0.000014</td>\n",
       "      <td>0.000017</td>\n",
       "      <td>-0.000031</td>\n",
       "      <td>0.000009</td>\n",
       "    </tr>\n",
       "    <tr>\n",
       "      <th>...</th>\n",
       "      <td>...</td>\n",
       "      <td>...</td>\n",
       "      <td>...</td>\n",
       "      <td>...</td>\n",
       "      <td>...</td>\n",
       "      <td>...</td>\n",
       "      <td>...</td>\n",
       "      <td>...</td>\n",
       "      <td>...</td>\n",
       "      <td>...</td>\n",
       "      <td>...</td>\n",
       "      <td>...</td>\n",
       "      <td>...</td>\n",
       "      <td>...</td>\n",
       "      <td>...</td>\n",
       "      <td>...</td>\n",
       "      <td>...</td>\n",
       "      <td>...</td>\n",
       "      <td>...</td>\n",
       "    </tr>\n",
       "    <tr>\n",
       "      <th>2097145</th>\n",
       "      <td>0.000081</td>\n",
       "      <td>0.000047</td>\n",
       "      <td>0.000087</td>\n",
       "      <td>0.000074</td>\n",
       "      <td>0.000113</td>\n",
       "      <td>0.000063</td>\n",
       "      <td>0.000129</td>\n",
       "      <td>-0.000037</td>\n",
       "      <td>0.000102</td>\n",
       "      <td>-0.000106</td>\n",
       "      <td>0.000012</td>\n",
       "      <td>-0.000023</td>\n",
       "      <td>-0.000074</td>\n",
       "      <td>4.100000e-06</td>\n",
       "      <td>-0.000036</td>\n",
       "      <td>0.000072</td>\n",
       "      <td>-0.000046</td>\n",
       "      <td>0.000070</td>\n",
       "      <td>-0.000169</td>\n",
       "    </tr>\n",
       "    <tr>\n",
       "      <th>2097146</th>\n",
       "      <td>0.000093</td>\n",
       "      <td>0.000055</td>\n",
       "      <td>0.000087</td>\n",
       "      <td>0.000082</td>\n",
       "      <td>0.000133</td>\n",
       "      <td>0.000058</td>\n",
       "      <td>0.000133</td>\n",
       "      <td>-0.000036</td>\n",
       "      <td>0.000088</td>\n",
       "      <td>-0.000115</td>\n",
       "      <td>0.000013</td>\n",
       "      <td>-0.000036</td>\n",
       "      <td>-0.000097</td>\n",
       "      <td>4.100000e-06</td>\n",
       "      <td>-0.000031</td>\n",
       "      <td>0.000087</td>\n",
       "      <td>-0.000049</td>\n",
       "      <td>0.000076</td>\n",
       "      <td>-0.000152</td>\n",
       "    </tr>\n",
       "    <tr>\n",
       "      <th>2097147</th>\n",
       "      <td>0.000110</td>\n",
       "      <td>0.000061</td>\n",
       "      <td>0.000078</td>\n",
       "      <td>0.000085</td>\n",
       "      <td>0.000146</td>\n",
       "      <td>0.000049</td>\n",
       "      <td>0.000130</td>\n",
       "      <td>-0.000036</td>\n",
       "      <td>0.000076</td>\n",
       "      <td>-0.000119</td>\n",
       "      <td>0.000013</td>\n",
       "      <td>-0.000034</td>\n",
       "      <td>-0.000127</td>\n",
       "      <td>-9.770000e-07</td>\n",
       "      <td>-0.000033</td>\n",
       "      <td>0.000106</td>\n",
       "      <td>-0.000058</td>\n",
       "      <td>0.000075</td>\n",
       "      <td>-0.000145</td>\n",
       "    </tr>\n",
       "    <tr>\n",
       "      <th>2097148</th>\n",
       "      <td>0.000133</td>\n",
       "      <td>0.000068</td>\n",
       "      <td>0.000082</td>\n",
       "      <td>0.000085</td>\n",
       "      <td>0.000157</td>\n",
       "      <td>0.000040</td>\n",
       "      <td>0.000123</td>\n",
       "      <td>-0.000033</td>\n",
       "      <td>0.000067</td>\n",
       "      <td>-0.000124</td>\n",
       "      <td>0.000013</td>\n",
       "      <td>-0.000037</td>\n",
       "      <td>-0.000156</td>\n",
       "      <td>-9.570000e-06</td>\n",
       "      <td>-0.000036</td>\n",
       "      <td>0.000107</td>\n",
       "      <td>-0.000073</td>\n",
       "      <td>0.000068</td>\n",
       "      <td>-0.000129</td>\n",
       "    </tr>\n",
       "    <tr>\n",
       "      <th>2097149</th>\n",
       "      <td>0.000144</td>\n",
       "      <td>0.000070</td>\n",
       "      <td>0.000078</td>\n",
       "      <td>0.000085</td>\n",
       "      <td>0.000166</td>\n",
       "      <td>0.000027</td>\n",
       "      <td>0.000117</td>\n",
       "      <td>-0.000033</td>\n",
       "      <td>0.000052</td>\n",
       "      <td>-0.000126</td>\n",
       "      <td>0.000012</td>\n",
       "      <td>-0.000046</td>\n",
       "      <td>-0.000179</td>\n",
       "      <td>-1.580000e-05</td>\n",
       "      <td>-0.000033</td>\n",
       "      <td>0.000114</td>\n",
       "      <td>-0.000087</td>\n",
       "      <td>0.000065</td>\n",
       "      <td>-0.000104</td>\n",
       "    </tr>\n",
       "  </tbody>\n",
       "</table>\n",
       "<p>1708537 rows × 19 columns</p>\n",
       "</div>"
      ],
      "text/plain": [
       "         # FP1-F7     C3-P3     C4-P4     CZ-PZ     F3-C3     F4-C4     F7-T7  \\\n",
       "0        0.000020  0.000010  0.000022  0.000037  0.000032  0.000035  0.000016   \n",
       "1        0.000022  0.000008  0.000021  0.000039  0.000030  0.000032  0.000015   \n",
       "2        0.000021  0.000012  0.000021  0.000040  0.000025  0.000030  0.000013   \n",
       "3        0.000019  0.000012  0.000021  0.000039  0.000023  0.000028  0.000013   \n",
       "4        0.000019  0.000012  0.000021  0.000036  0.000023  0.000024  0.000012   \n",
       "...           ...       ...       ...       ...       ...       ...       ...   \n",
       "2097145  0.000081  0.000047  0.000087  0.000074  0.000113  0.000063  0.000129   \n",
       "2097146  0.000093  0.000055  0.000087  0.000082  0.000133  0.000058  0.000133   \n",
       "2097147  0.000110  0.000061  0.000078  0.000085  0.000146  0.000049  0.000130   \n",
       "2097148  0.000133  0.000068  0.000082  0.000085  0.000157  0.000040  0.000123   \n",
       "2097149  0.000144  0.000070  0.000078  0.000085  0.000166  0.000027  0.000117   \n",
       "\n",
       "            F8-T8    FP1-F3    FP2-F4    FP2-F8   FT10-T8  FT9-FT10  \\\n",
       "0        0.000046 -0.000007  0.000043  0.000040  0.000013 -0.000014   \n",
       "1        0.000039 -0.000006  0.000042  0.000044  0.000012 -0.000015   \n",
       "2        0.000036 -0.000006  0.000040  0.000043  0.000010 -0.000013   \n",
       "3        0.000035 -0.000008  0.000036  0.000036  0.000009 -0.000012   \n",
       "4        0.000024 -0.000009  0.000032  0.000035  0.000006 -0.000015   \n",
       "...           ...       ...       ...       ...       ...       ...   \n",
       "2097145 -0.000037  0.000102 -0.000106  0.000012 -0.000023 -0.000074   \n",
       "2097146 -0.000036  0.000088 -0.000115  0.000013 -0.000036 -0.000097   \n",
       "2097147 -0.000036  0.000076 -0.000119  0.000013 -0.000034 -0.000127   \n",
       "2097148 -0.000033  0.000067 -0.000124  0.000013 -0.000037 -0.000156   \n",
       "2097149 -0.000033  0.000052 -0.000126  0.000012 -0.000046 -0.000179   \n",
       "\n",
       "                FZ-CZ     P3-O1     P4-O2     P7-O1     P8-O2    T7-FT9  \n",
       "0        3.380000e-05  0.000024 -0.000030  0.000010 -0.000037  0.000008  \n",
       "1        3.070000e-05  0.000026 -0.000017  0.000012 -0.000029  0.000010  \n",
       "2        2.910000e-05  0.000027 -0.000018  0.000014 -0.000034  0.000012  \n",
       "3        2.830000e-05  0.000030 -0.000024  0.000015 -0.000042  0.000009  \n",
       "4        2.910000e-05  0.000032 -0.000014  0.000017 -0.000031  0.000009  \n",
       "...               ...       ...       ...       ...       ...       ...  \n",
       "2097145  4.100000e-06 -0.000036  0.000072 -0.000046  0.000070 -0.000169  \n",
       "2097146  4.100000e-06 -0.000031  0.000087 -0.000049  0.000076 -0.000152  \n",
       "2097147 -9.770000e-07 -0.000033  0.000106 -0.000058  0.000075 -0.000145  \n",
       "2097148 -9.570000e-06 -0.000036  0.000107 -0.000073  0.000068 -0.000129  \n",
       "2097149 -1.580000e-05 -0.000033  0.000114 -0.000087  0.000065 -0.000104  \n",
       "\n",
       "[1708537 rows x 19 columns]"
      ]
     },
     "execution_count": 28,
     "metadata": {},
     "output_type": "execute_result"
    }
   ],
   "source": [
    "X"
   ]
  },
  {
   "cell_type": "code",
   "execution_count": 29,
   "metadata": {},
   "outputs": [
    {
     "data": {
      "text/plain": [
       "<matplotlib.axes._subplots.AxesSubplot at 0x7fd342d529a0>"
      ]
     },
     "execution_count": 29,
     "metadata": {},
     "output_type": "execute_result"
    },
    {
     "data": {
      "image/png": "[encoded data removed]",
      "text/plain": [
       "<Figure size 432x288 with 2 Axes>"
      ]
     },
     "metadata": {
      "needs_background": "light"
     },
     "output_type": "display_data"
    }
   ],
   "source": [
    "sb.heatmap(df.corr())"
   ]
  },
  {
   "cell_type": "code",
   "execution_count": 30,
   "metadata": {},
   "outputs": [
    {
     "name": "stdout",
     "output_type": "stream",
     "text": [
      "     feature       VIF\n",
      "0   # FP1-F7  5.423918\n",
      "1      C3-P3  1.976018\n",
      "2      C4-P4  2.357368\n",
      "3      CZ-PZ  1.920421\n",
      "4      F3-C3  4.171994\n",
      "5      F4-C4  3.975763\n",
      "6      F7-T7  5.538592\n",
      "7      F8-T8  4.769062\n",
      "8     FP1-F3  4.367270\n",
      "9     FP2-F4  4.242067\n",
      "10    FP2-F8  5.022523\n",
      "11   FT10-T8  2.446157\n",
      "12  FT9-FT10  3.451140\n",
      "13     FZ-CZ  2.705812\n",
      "14     P3-O1  2.636759\n",
      "15     P4-O2  2.697196\n",
      "16     P7-O1  2.436915\n",
      "17     P8-O2  2.029631\n",
      "18    T7-FT9  3.021760\n"
     ]
    },
    {
     "data": {
      "image/png": "[encoded data removed]",
      "text/plain": [
       "<Figure size 432x288 with 1 Axes>"
      ]
     },
     "metadata": {
      "needs_background": "light"
     },
     "output_type": "display_data"
    }
   ],
   "source": [
    "from statsmodels.stats.outliers_influence import variance_inflation_factor\n",
    "\n",
    "vif_data = pd.DataFrame()\n",
    "vif_data[\"feature\"] = X.columns\n",
    "  \n",
    "# calculating VIF for each feature\n",
    "vif_data[\"VIF\"] = [variance_inflation_factor(X.values, i)\n",
    "                          for i in range(len(X.columns))]\n",
    "  \n",
    "print(vif_data)\n",
    "pyplot.bar([x for x in (vif_data[\"feature\"])], vif_data[\"VIF\"])\n",
    "pyplot.show()"
   ]
  },
  {
   "cell_type": "code",
   "execution_count": 21,
   "metadata": {},
   "outputs": [],
   "source": [
    "df = df.drop('# FP1-F7',1)"
   ]
  },
  {
   "cell_type": "code",
   "execution_count": 22,
   "metadata": {},
   "outputs": [],
   "source": [
    "df = df.drop('FP2-F8',1)"
   ]
  },
  {
   "cell_type": "code",
   "execution_count": 23,
   "metadata": {},
   "outputs": [],
   "source": [
    "y = df.iloc[:,17:]\n",
    "X = df.iloc[:,:17]"
   ]
  },
  {
   "cell_type": "code",
   "execution_count": 24,
   "metadata": {},
   "outputs": [],
   "source": [
    "from sklearn.model_selection import train_test_split\n",
    "X_train, X_test, y_train, y_test = train_test_split(X, y, test_size=0.2, random_state=12345)"
   ]
  },
  {
   "cell_type": "code",
   "execution_count": 35,
   "metadata": {
    "scrolled": true
   },
   "outputs": [
    {
     "data": {
      "image/png": "[encoded data removed]",
      "text/plain": [
       "<Figure size 432x288 with 1 Axes>"
      ]
     },
     "metadata": {
      "needs_background": "light"
     },
     "output_type": "display_data"
    },
    {
     "data": {
      "image/png": "[encoded data removed]",
      "text/plain": [
       "<Figure size 432x288 with 1 Axes>"
      ]
     },
     "metadata": {
      "needs_background": "light"
     },
     "output_type": "display_data"
    },
    {
     "data": {
      "image/png": "[encoded data removed]",
      "text/plain": [
       "<Figure size 432x288 with 1 Axes>"
      ]
     },
     "metadata": {
      "needs_background": "light"
     },
     "output_type": "display_data"
    },
    {
     "data": {
      "image/png": "[encoded data removed]",
      "text/plain": [
       "<Figure size 432x288 with 1 Axes>"
      ]
     },
     "metadata": {
      "needs_background": "light"
     },
     "output_type": "display_data"
    },
    {
     "data": {
      "image/png": "[encoded data removed]",
      "text/plain": [
       "<Figure size 432x288 with 1 Axes>"
      ]
     },
     "metadata": {
      "needs_background": "light"
     },
     "output_type": "display_data"
    },
    {
     "data": {
      "image/png": "[encoded data removed]",
      "text/plain": [
       "<Figure size 432x288 with 1 Axes>"
      ]
     },
     "metadata": {
      "needs_background": "light"
     },
     "output_type": "display_data"
    },
    {
     "data": {
      "image/png": "[encoded data removed]",
      "text/plain": [
       "<Figure size 432x288 with 1 Axes>"
      ]
     },
     "metadata": {
      "needs_background": "light"
     },
     "output_type": "display_data"
    },
    {
     "data": {
      "image/png": "[encoded data removed]",
      "text/plain": [
       "<Figure size 432x288 with 1 Axes>"
      ]
     },
     "metadata": {
      "needs_background": "light"
     },
     "output_type": "display_data"
    },
    {
     "data": {
      "image/png": "[encoded data removed]",
      "text/plain": [
       "<Figure size 432x288 with 1 Axes>"
      ]
     },
     "metadata": {
      "needs_background": "light"
     },
     "output_type": "display_data"
    },
    {
     "data": {
      "image/png": "[encoded data removed]",
      "text/plain": [
       "<Figure size 432x288 with 1 Axes>"
      ]
     },
     "metadata": {
      "needs_background": "light"
     },
     "output_type": "display_data"
    },
    {
     "data": {
      "image/png": "[encoded data removed]",
      "text/plain": [
       "<Figure size 432x288 with 1 Axes>"
      ]
     },
     "metadata": {
      "needs_background": "light"
     },
     "output_type": "display_data"
    },
    {
     "data": {
      "image/png": "[encoded data removed]",
      "text/plain": [
       "<Figure size 432x288 with 1 Axes>"
      ]
     },
     "metadata": {
      "needs_background": "light"
     },
     "output_type": "display_data"
    },
    {
     "data": {
      "image/png": "[encoded data removed]",
      "text/plain": [
       "<Figure size 432x288 with 1 Axes>"
      ]
     },
     "metadata": {
      "needs_background": "light"
     },
     "output_type": "display_data"
    },
    {
     "data": {
      "image/png": "[encoded data removed]",
      "text/plain": [
       "<Figure size 432x288 with 1 Axes>"
      ]
     },
     "metadata": {
      "needs_background": "light"
     },
     "output_type": "display_data"
    },
    {
     "data": {
      "image/png": "[encoded data removed]",
      "text/plain": [
       "<Figure size 432x288 with 1 Axes>"
      ]
     },
     "metadata": {
      "needs_background": "light"
     },
     "output_type": "display_data"
    },
    {
     "data": {
      "image/png": "[encoded data removed]",
      "text/plain": [
       "<Figure size 432x288 with 1 Axes>"
      ]
     },
     "metadata": {
      "needs_background": "light"
     },
     "output_type": "display_data"
    },
    {
     "data": {
      "image/png": "[encoded data removed]",
      "text/plain": [
       "<Figure size 432x288 with 1 Axes>"
      ]
     },
     "metadata": {
      "needs_background": "light"
     },
     "output_type": "display_data"
    },
    {
     "data": {
      "image/png": "[encoded data removed]",
      "text/plain": [
       "<Figure size 432x288 with 1 Axes>"
      ]
     },
     "metadata": {
      "needs_background": "light"
     },
     "output_type": "display_data"
    }
   ],
   "source": [
    "for i in df.columns:\n",
    "    plt.hist(df[i], bins = 50, color = 'pink', edgecolor='black', linewidth=1.0)\n",
    "    plt.title(i)\n",
    "    plt.show()"
   ]
  },
  {
   "cell_type": "code",
   "execution_count": 106,
   "metadata": {},
   "outputs": [],
   "source": [
    "from sklearn.neighbors import KNeighborsClassifier\n",
    "knn_model = KNeighborsClassifier(n_neighbors=3)"
   ]
  },
  {
   "cell_type": "code",
   "execution_count": 107,
   "metadata": {},
   "outputs": [
    {
     "name": "stderr",
     "output_type": "stream",
     "text": [
      "/opt/anaconda3/lib/python3.8/site-packages/sklearn/neighbors/_classification.py:207: DataConversionWarning: A column-vector y was passed when a 1d array was expected. Please change the shape of y to (n_samples,), for example using ravel().\n",
      "  return self._fit(X, y)\n"
     ]
    },
    {
     "data": {
      "text/html": [
       "<style>#sk-container-id-4 {color: black;background-color: white;}#sk-container-id-4 pre{padding: 0;}#sk-container-id-4 div.sk-toggleable {background-color: white;}#sk-container-id-4 label.sk-toggleable__label {cursor: pointer;display: block;width: 100%;margin-bottom: 0;padding: 0.3em;box-sizing: border-box;text-align: center;}#sk-container-id-4 label.sk-toggleable__label-arrow:before {content: \"▸\";float: left;margin-right: 0.25em;color: #696969;}#sk-container-id-4 label.sk-toggleable__label-arrow:hover:before {color: black;}#sk-container-id-4 div.sk-estimator:hover label.sk-toggleable__label-arrow:before {color: black;}#sk-container-id-4 div.sk-toggleable__content {max-height: 0;max-width: 0;overflow: hidden;text-align: left;background-color: #f0f8ff;}#sk-container-id-4 div.sk-toggleable__content pre {margin: 0.2em;color: black;border-radius: 0.25em;background-color: #f0f8ff;}#sk-container-id-4 input.sk-toggleable__control:checked~div.sk-toggleable__content {max-height: 200px;max-width: 100%;overflow: auto;}#sk-container-id-4 input.sk-toggleable__control:checked~label.sk-toggleable__label-arrow:before {content: \"▾\";}#sk-container-id-4 div.sk-estimator input.sk-toggleable__control:checked~label.sk-toggleable__label {background-color: #d4ebff;}#sk-container-id-4 div.sk-label input.sk-toggleable__control:checked~label.sk-toggleable__label {background-color: #d4ebff;}#sk-container-id-4 input.sk-hidden--visually {border: 0;clip: rect(1px 1px 1px 1px);clip: rect(1px, 1px, 1px, 1px);height: 1px;margin: -1px;overflow: hidden;padding: 0;position: absolute;width: 1px;}#sk-container-id-4 div.sk-estimator {font-family: monospace;background-color: #f0f8ff;border: 1px dotted black;border-radius: 0.25em;box-sizing: border-box;margin-bottom: 0.5em;}#sk-container-id-4 div.sk-estimator:hover {background-color: #d4ebff;}#sk-container-id-4 div.sk-parallel-item::after {content: \"\";width: 100%;border-bottom: 1px solid gray;flex-grow: 1;}#sk-container-id-4 div.sk-label:hover label.sk-toggleable__label {background-color: #d4ebff;}#sk-container-id-4 div.sk-serial::before {content: \"\";position: absolute;border-left: 1px solid gray;box-sizing: border-box;top: 0;bottom: 0;left: 50%;z-index: 0;}#sk-container-id-4 div.sk-serial {display: flex;flex-direction: column;align-items: center;background-color: white;padding-right: 0.2em;padding-left: 0.2em;position: relative;}#sk-container-id-4 div.sk-item {position: relative;z-index: 1;}#sk-container-id-4 div.sk-parallel {display: flex;align-items: stretch;justify-content: center;background-color: white;position: relative;}#sk-container-id-4 div.sk-item::before, #sk-container-id-4 div.sk-parallel-item::before {content: \"\";position: absolute;border-left: 1px solid gray;box-sizing: border-box;top: 0;bottom: 0;left: 50%;z-index: -1;}#sk-container-id-4 div.sk-parallel-item {display: flex;flex-direction: column;z-index: 1;position: relative;background-color: white;}#sk-container-id-4 div.sk-parallel-item:first-child::after {align-self: flex-end;width: 50%;}#sk-container-id-4 div.sk-parallel-item:last-child::after {align-self: flex-start;width: 50%;}#sk-container-id-4 div.sk-parallel-item:only-child::after {width: 0;}#sk-container-id-4 div.sk-dashed-wrapped {border: 1px dashed gray;margin: 0 0.4em 0.5em 0.4em;box-sizing: border-box;padding-bottom: 0.4em;background-color: white;}#sk-container-id-4 div.sk-label label {font-family: monospace;font-weight: bold;display: inline-block;line-height: 1.2em;}#sk-container-id-4 div.sk-label-container {text-align: center;}#sk-container-id-4 div.sk-container {/* jupyter's `normalize.less` sets `[hidden] { display: none; }` but bootstrap.min.css set `[hidden] { display: none !important; }` so we also need the `!important` here to be able to override the default hidden behavior on the sphinx rendered scikit-learn.org. See: https://github.com/scikit-learn/scikit-learn/issues/21755 */display: inline-block !important;position: relative;}#sk-container-id-4 div.sk-text-repr-fallback {display: none;}</style><div id=\"sk-container-id-4\" class=\"sk-top-container\"><div class=\"sk-text-repr-fallback\"><pre>KNeighborsClassifier(n_neighbors=3)</pre><b>In a Jupyter environment, please rerun this cell to show the HTML representation or trust the notebook. <br />On GitHub, the HTML representation is unable to render, please try loading this page with nbviewer.org.</b></div><div class=\"sk-container\" hidden><div class=\"sk-item\"><div class=\"sk-estimator sk-toggleable\"><input class=\"sk-toggleable__control sk-hidden--visually\" id=\"sk-estimator-id-4\" type=\"checkbox\" checked><label for=\"sk-estimator-id-4\" class=\"sk-toggleable__label sk-toggleable__label-arrow\">KNeighborsClassifier</label><div class=\"sk-toggleable__content\"><pre>KNeighborsClassifier(n_neighbors=3)</pre></div></div></div></div></div>"
      ],
      "text/plain": [
       "KNeighborsClassifier(n_neighbors=3)"
      ]
     },
     "execution_count": 107,
     "metadata": {},
     "output_type": "execute_result"
    }
   ],
   "source": [
    "knn_model.fit(X_train,y_train)"
   ]
  },
  {
   "cell_type": "code",
   "execution_count": 108,
   "metadata": {},
   "outputs": [
    {
     "data": {
      "text/plain": [
       "0.945353927915062"
      ]
     },
     "execution_count": 108,
     "metadata": {},
     "output_type": "execute_result"
    }
   ],
   "source": [
    "knn_model.score(X_test, y_test, sample_weight=None)"
   ]
  },
  {
   "cell_type": "code",
   "execution_count": 109,
   "metadata": {},
   "outputs": [
    {
     "name": "stdout",
     "output_type": "stream",
     "text": [
      "              precision    recall  f1-score   support\n",
      "\n",
      "           0       0.93      0.98      0.95    201420\n",
      "           1       0.97      0.90      0.93    140288\n",
      "\n",
      "    accuracy                           0.95    341708\n",
      "   macro avg       0.95      0.94      0.94    341708\n",
      "weighted avg       0.95      0.95      0.95    341708\n",
      "\n"
     ]
    }
   ],
   "source": [
    "y_pred = knn_model.predict(X_test)\n",
    "print(classification_report(y_test, y_pred, labels=[0,1]))"
   ]
  },
  {
   "cell_type": "code",
   "execution_count": 110,
   "metadata": {},
   "outputs": [
    {
     "data": {
      "text/plain": [
       "0.9740168027805501"
      ]
     },
     "execution_count": 110,
     "metadata": {},
     "output_type": "execute_result"
    }
   ],
   "source": [
    "roc_auc_score(y_test, knn_model.predict_proba(X_test)[:, 1])"
   ]
  },
  {
   "cell_type": "code",
   "execution_count": 111,
   "metadata": {},
   "outputs": [],
   "source": [
    "confusion_mat = confusion_matrix(y_test,y_pred)"
   ]
  },
  {
   "cell_type": "code",
   "execution_count": 112,
   "metadata": {
    "scrolled": true
   },
   "outputs": [
    {
     "data": {
      "image/png": "[encoded data removed]",
      "text/plain": [
       "<Figure size 432x288 with 2 Axes>"
      ]
     },
     "metadata": {
      "needs_background": "light"
     },
     "output_type": "display_data"
    }
   ],
   "source": [
    "disp = ConfusionMatrixDisplay(confusion_matrix=confusion_mat, display_labels=clf.classes_)\n",
    "disp.plot()\n",
    "plt.show()"
   ]
  },
  {
   "cell_type": "code",
   "execution_count": 113,
   "metadata": {},
   "outputs": [
    {
     "name": "stderr",
     "output_type": "stream",
     "text": [
      "/opt/anaconda3/lib/python3.8/site-packages/sklearn/base.py:450: UserWarning: X does not have valid feature names, but KNeighborsClassifier was fitted with feature names\n",
      "  warnings.warn(\n"
     ]
    },
    {
     "ename": "ValueError",
     "evalue": "X has 4 features, but KNeighborsClassifier is expecting 17 features as input.",
     "output_type": "error",
     "traceback": [
      "\u001b[0;31m---------------------------------------------------------------------------\u001b[0m",
      "\u001b[0;31mValueError\u001b[0m                                Traceback (most recent call last)",
      "\u001b[0;32m<ipython-input-113-e6f299f7614a>\u001b[0m in \u001b[0;36m<module>\u001b[0;34m\u001b[0m\n\u001b[0;32m----> 1\u001b[0;31m \u001b[0mknn_model\u001b[0m\u001b[0;34m.\u001b[0m\u001b[0mkneighbors_graph\u001b[0m\u001b[0;34m(\u001b[0m\u001b[0mX\u001b[0m\u001b[0;34m)\u001b[0m\u001b[0;34m\u001b[0m\u001b[0;34m\u001b[0m\u001b[0m\n\u001b[0m",
      "\u001b[0;32m/opt/anaconda3/lib/python3.8/site-packages/sklearn/neighbors/_base.py\u001b[0m in \u001b[0;36mkneighbors_graph\u001b[0;34m(self, X, n_neighbors, mode)\u001b[0m\n\u001b[1;32m    917\u001b[0m         \u001b[0;31m# construct CSR matrix representation of the k-NN graph\u001b[0m\u001b[0;34m\u001b[0m\u001b[0;34m\u001b[0m\u001b[0;34m\u001b[0m\u001b[0m\n\u001b[1;32m    918\u001b[0m         \u001b[0;32mif\u001b[0m \u001b[0mmode\u001b[0m \u001b[0;34m==\u001b[0m \u001b[0;34m\"connectivity\"\u001b[0m\u001b[0;34m:\u001b[0m\u001b[0;34m\u001b[0m\u001b[0;34m\u001b[0m\u001b[0m\n\u001b[0;32m--> 919\u001b[0;31m             \u001b[0mA_ind\u001b[0m \u001b[0;34m=\u001b[0m \u001b[0mself\u001b[0m\u001b[0;34m.\u001b[0m\u001b[0mkneighbors\u001b[0m\u001b[0;34m(\u001b[0m\u001b[0mX\u001b[0m\u001b[0;34m,\u001b[0m \u001b[0mn_neighbors\u001b[0m\u001b[0;34m,\u001b[0m \u001b[0mreturn_distance\u001b[0m\u001b[0;34m=\u001b[0m\u001b[0;32mFalse\u001b[0m\u001b[0;34m)\u001b[0m\u001b[0;34m\u001b[0m\u001b[0;34m\u001b[0m\u001b[0m\n\u001b[0m\u001b[1;32m    920\u001b[0m             \u001b[0mn_queries\u001b[0m \u001b[0;34m=\u001b[0m \u001b[0mA_ind\u001b[0m\u001b[0;34m.\u001b[0m\u001b[0mshape\u001b[0m\u001b[0;34m[\u001b[0m\u001b[0;36m0\u001b[0m\u001b[0;34m]\u001b[0m\u001b[0;34m\u001b[0m\u001b[0;34m\u001b[0m\u001b[0m\n\u001b[1;32m    921\u001b[0m             \u001b[0mA_data\u001b[0m \u001b[0;34m=\u001b[0m \u001b[0mnp\u001b[0m\u001b[0;34m.\u001b[0m\u001b[0mones\u001b[0m\u001b[0;34m(\u001b[0m\u001b[0mn_queries\u001b[0m \u001b[0;34m*\u001b[0m \u001b[0mn_neighbors\u001b[0m\u001b[0;34m)\u001b[0m\u001b[0;34m\u001b[0m\u001b[0;34m\u001b[0m\u001b[0m\n",
      "\u001b[0;32m/opt/anaconda3/lib/python3.8/site-packages/sklearn/neighbors/_base.py\u001b[0m in \u001b[0;36mkneighbors\u001b[0;34m(self, X, n_neighbors, return_distance)\u001b[0m\n\u001b[1;32m    743\u001b[0m                 \u001b[0mX\u001b[0m \u001b[0;34m=\u001b[0m \u001b[0m_check_precomputed\u001b[0m\u001b[0;34m(\u001b[0m\u001b[0mX\u001b[0m\u001b[0;34m)\u001b[0m\u001b[0;34m\u001b[0m\u001b[0;34m\u001b[0m\u001b[0m\n\u001b[1;32m    744\u001b[0m             \u001b[0;32melse\u001b[0m\u001b[0;34m:\u001b[0m\u001b[0;34m\u001b[0m\u001b[0;34m\u001b[0m\u001b[0m\n\u001b[0;32m--> 745\u001b[0;31m                 \u001b[0mX\u001b[0m \u001b[0;34m=\u001b[0m \u001b[0mself\u001b[0m\u001b[0;34m.\u001b[0m\u001b[0m_validate_data\u001b[0m\u001b[0;34m(\u001b[0m\u001b[0mX\u001b[0m\u001b[0;34m,\u001b[0m \u001b[0maccept_sparse\u001b[0m\u001b[0;34m=\u001b[0m\u001b[0;34m\"csr\"\u001b[0m\u001b[0;34m,\u001b[0m \u001b[0mreset\u001b[0m\u001b[0;34m=\u001b[0m\u001b[0;32mFalse\u001b[0m\u001b[0;34m,\u001b[0m \u001b[0morder\u001b[0m\u001b[0;34m=\u001b[0m\u001b[0;34m\"C\"\u001b[0m\u001b[0;34m)\u001b[0m\u001b[0;34m\u001b[0m\u001b[0;34m\u001b[0m\u001b[0m\n\u001b[0m\u001b[1;32m    746\u001b[0m \u001b[0;34m\u001b[0m\u001b[0m\n\u001b[1;32m    747\u001b[0m         \u001b[0mn_samples_fit\u001b[0m \u001b[0;34m=\u001b[0m \u001b[0mself\u001b[0m\u001b[0;34m.\u001b[0m\u001b[0mn_samples_fit_\u001b[0m\u001b[0;34m\u001b[0m\u001b[0;34m\u001b[0m\u001b[0m\n",
      "\u001b[0;32m/opt/anaconda3/lib/python3.8/site-packages/sklearn/base.py\u001b[0m in \u001b[0;36m_validate_data\u001b[0;34m(self, X, y, reset, validate_separately, **check_params)\u001b[0m\n\u001b[1;32m    598\u001b[0m \u001b[0;34m\u001b[0m\u001b[0m\n\u001b[1;32m    599\u001b[0m         \u001b[0;32mif\u001b[0m \u001b[0;32mnot\u001b[0m \u001b[0mno_val_X\u001b[0m \u001b[0;32mand\u001b[0m \u001b[0mcheck_params\u001b[0m\u001b[0;34m.\u001b[0m\u001b[0mget\u001b[0m\u001b[0;34m(\u001b[0m\u001b[0;34m\"ensure_2d\"\u001b[0m\u001b[0;34m,\u001b[0m \u001b[0;32mTrue\u001b[0m\u001b[0;34m)\u001b[0m\u001b[0;34m:\u001b[0m\u001b[0;34m\u001b[0m\u001b[0;34m\u001b[0m\u001b[0m\n\u001b[0;32m--> 600\u001b[0;31m             \u001b[0mself\u001b[0m\u001b[0;34m.\u001b[0m\u001b[0m_check_n_features\u001b[0m\u001b[0;34m(\u001b[0m\u001b[0mX\u001b[0m\u001b[0;34m,\u001b[0m \u001b[0mreset\u001b[0m\u001b[0;34m=\u001b[0m\u001b[0mreset\u001b[0m\u001b[0;34m)\u001b[0m\u001b[0;34m\u001b[0m\u001b[0;34m\u001b[0m\u001b[0m\n\u001b[0m\u001b[1;32m    601\u001b[0m \u001b[0;34m\u001b[0m\u001b[0m\n\u001b[1;32m    602\u001b[0m         \u001b[0;32mreturn\u001b[0m \u001b[0mout\u001b[0m\u001b[0;34m\u001b[0m\u001b[0;34m\u001b[0m\u001b[0m\n",
      "\u001b[0;32m/opt/anaconda3/lib/python3.8/site-packages/sklearn/base.py\u001b[0m in \u001b[0;36m_check_n_features\u001b[0;34m(self, X, reset)\u001b[0m\n\u001b[1;32m    398\u001b[0m \u001b[0;34m\u001b[0m\u001b[0m\n\u001b[1;32m    399\u001b[0m         \u001b[0;32mif\u001b[0m \u001b[0mn_features\u001b[0m \u001b[0;34m!=\u001b[0m \u001b[0mself\u001b[0m\u001b[0;34m.\u001b[0m\u001b[0mn_features_in_\u001b[0m\u001b[0;34m:\u001b[0m\u001b[0;34m\u001b[0m\u001b[0;34m\u001b[0m\u001b[0m\n\u001b[0;32m--> 400\u001b[0;31m             raise ValueError(\n\u001b[0m\u001b[1;32m    401\u001b[0m                 \u001b[0;34mf\"X has {n_features} features, but {self.__class__.__name__} \"\u001b[0m\u001b[0;34m\u001b[0m\u001b[0;34m\u001b[0m\u001b[0m\n\u001b[1;32m    402\u001b[0m                 \u001b[0;34mf\"is expecting {self.n_features_in_} features as input.\"\u001b[0m\u001b[0;34m\u001b[0m\u001b[0;34m\u001b[0m\u001b[0m\n",
      "\u001b[0;31mValueError\u001b[0m: X has 4 features, but KNeighborsClassifier is expecting 17 features as input."
     ]
    }
   ],
   "source": [
    "knn_model.kneighbors_graph(X)"
   ]
  },
  {
   "cell_type": "code",
   "execution_count": null,
   "metadata": {},
   "outputs": [
    {
     "name": "stderr",
     "output_type": "stream",
     "text": [
      "/opt/anaconda3/lib/python3.8/site-packages/sklearn/utils/validation.py:1111: DataConversionWarning: A column-vector y was passed when a 1d array was expected. Please change the shape of y to (n_samples, ), for example using ravel().\n",
      "  y = column_or_1d(y, warn=True)\n"
     ]
    }
   ],
   "source": [
    "from sklearn import svm\n",
    "clf = svm.SVC()\n",
    "clf.fit(X_train, y_train)"
   ]
  },
  {
   "cell_type": "code",
   "execution_count": null,
   "metadata": {},
   "outputs": [],
   "source": [
    "clf.score(X_test, y_test, sample_weight=None)"
   ]
  },
  {
   "cell_type": "code",
   "execution_count": null,
   "metadata": {},
   "outputs": [],
   "source": [
    "from sklearn.metrics import classification_report\n",
    "y_pred = clf.predict(X_test)\n",
    "print(classification_report(y_test, y_pred, labels=[0,1]))"
   ]
  },
  {
   "cell_type": "code",
   "execution_count": null,
   "metadata": {},
   "outputs": [],
   "source": [
    "from sklearn.metrics import roc_auc_score\n",
    "roc_auc_score(y_test, clf.predict_proba(X_test)[:, 1])"
   ]
  },
  {
   "cell_type": "code",
   "execution_count": null,
   "metadata": {},
   "outputs": [],
   "source": [
    "from sklearn.metrics import confusion_matrix, ConfusionMatrixDisplay \n",
    "confusion_mat = confusion_matrix(y_test,y_pred)"
   ]
  },
  {
   "cell_type": "code",
   "execution_count": null,
   "metadata": {
    "scrolled": true
   },
   "outputs": [],
   "source": [
    "disp = ConfusionMatrixDisplay(confusion_matrix=confusion_mat, display_labels=clf.classes_)\n",
    "disp.plot()\n",
    "plt.show()"
   ]
  },
  {
   "cell_type": "code",
   "execution_count": 1,
   "metadata": {},
   "outputs": [
    {
     "ename": "NameError",
     "evalue": "name 'X_train' is not defined",
     "output_type": "error",
     "traceback": [
      "\u001b[0;31m---------------------------------------------------------------------------\u001b[0m",
      "\u001b[0;31mNameError\u001b[0m                                 Traceback (most recent call last)",
      "\u001b[0;32m<ipython-input-1-50c2781714f6>\u001b[0m in \u001b[0;36m<module>\u001b[0;34m\u001b[0m\n\u001b[1;32m      1\u001b[0m \u001b[0;32mfrom\u001b[0m \u001b[0msklearn\u001b[0m \u001b[0;32mimport\u001b[0m \u001b[0mtree\u001b[0m\u001b[0;34m\u001b[0m\u001b[0;34m\u001b[0m\u001b[0m\n\u001b[1;32m      2\u001b[0m \u001b[0mclf\u001b[0m \u001b[0;34m=\u001b[0m \u001b[0mtree\u001b[0m\u001b[0;34m.\u001b[0m\u001b[0mDecisionTreeClassifier\u001b[0m\u001b[0;34m(\u001b[0m\u001b[0;34m)\u001b[0m\u001b[0;34m\u001b[0m\u001b[0;34m\u001b[0m\u001b[0m\n\u001b[0;32m----> 3\u001b[0;31m \u001b[0mclf\u001b[0m \u001b[0;34m=\u001b[0m \u001b[0mclf\u001b[0m\u001b[0;34m.\u001b[0m\u001b[0mfit\u001b[0m\u001b[0;34m(\u001b[0m\u001b[0mX_train\u001b[0m\u001b[0;34m,\u001b[0m \u001b[0my_train\u001b[0m\u001b[0;34m)\u001b[0m\u001b[0;34m\u001b[0m\u001b[0;34m\u001b[0m\u001b[0m\n\u001b[0m\u001b[1;32m      4\u001b[0m \u001b[0;31m#tree.plot_tree(clf)from sklearn.metrics import classification_report\u001b[0m\u001b[0;34m\u001b[0m\u001b[0;34m\u001b[0m\u001b[0;34m\u001b[0m\u001b[0m\n\u001b[1;32m      5\u001b[0m \u001b[0my_pred\u001b[0m \u001b[0;34m=\u001b[0m \u001b[0mclf\u001b[0m\u001b[0;34m.\u001b[0m\u001b[0mpredict\u001b[0m\u001b[0;34m(\u001b[0m\u001b[0mX_test\u001b[0m\u001b[0;34m)\u001b[0m\u001b[0;34m\u001b[0m\u001b[0;34m\u001b[0m\u001b[0m\n",
      "\u001b[0;31mNameError\u001b[0m: name 'X_train' is not defined"
     ]
    }
   ],
   "source": [
    "from sklearn import tree\n",
    "clf = tree.DecisionTreeClassifier()\n",
    "clf = clf.fit(X_train, y_train)\n",
    "#tree.plot_tree(clf)from sklearn.metrics import classification_report\n",
    "y_pred = clf.predict(X_test)\n",
    "print(classification_report(y_test, y_pred, labels=[0,1]))\n",
    "\n",
    "from sklearn.metrics import roc_auc_score\n",
    "roc_auc_score(y_test, clf.predict_proba(X_test)[:, 1])\n",
    "\n",
    "from sklearn.metrics import confusion_matrix, ConfusionMatrixDisplay \n",
    "confusion_mat = confusion_matrix(y_test,y_pred)\n",
    "\n",
    "disp = ConfusionMatrixDisplay(confusion_matrix=confusion_mat, display_labels=clf.classes_)\n",
    "disp.plot()\n",
    "plt.show()\n",
    "clf.score(X_test, y_test, sample_weight=None)"
   ]
  },
  {
   "cell_type": "code",
   "execution_count": null,
   "metadata": {},
   "outputs": [],
   "source": [
    "from sklearn.metrics import classification_report\n",
    "y_pred = clf.predict(X_test)\n",
    "print(classification_report(y_test, y_pred, labels=[0,1]))"
   ]
  },
  {
   "cell_type": "code",
   "execution_count": null,
   "metadata": {},
   "outputs": [],
   "source": [
    "from sklearn.metrics import roc_auc_score\n",
    "roc_auc_score(y_test, clf.predict_proba(X_test)[:, 1])"
   ]
  },
  {
   "cell_type": "code",
   "execution_count": 63,
   "metadata": {},
   "outputs": [],
   "source": [
    "from sklearn.metrics import confusion_matrix, ConfusionMatrixDisplay \n",
    "confusion_mat = confusion_matrix(y_test,y_pred)"
   ]
  },
  {
   "cell_type": "code",
   "execution_count": 65,
   "metadata": {
    "scrolled": true
   },
   "outputs": [
    {
     "data": {
      "image/png": "[encoded data removed]",
      "text/plain": [
       "<Figure size 432x288 with 2 Axes>"
      ]
     },
     "metadata": {
      "needs_background": "light"
     },
     "output_type": "display_data"
    }
   ],
   "source": [
    "disp = ConfusionMatrixDisplay(confusion_matrix=confusion_mat, display_labels=clf.classes_)\n",
    "disp.plot()\n",
    "plt.show()"
   ]
  },
  {
   "cell_type": "code",
   "execution_count": 66,
   "metadata": {},
   "outputs": [
    {
     "name": "stderr",
     "output_type": "stream",
     "text": [
      "<ipython-input-66-7742df23fc16>:5: DataConversionWarning: A column-vector y was passed when a 1d array was expected. Please change the shape of y to (n_samples,), for example using ravel().\n",
      "  clf.fit(X_train, y_train)\n"
     ]
    },
    {
     "data": {
      "text/plain": [
       "0.6929600711718777"
      ]
     },
     "execution_count": 66,
     "metadata": {},
     "output_type": "execute_result"
    }
   ],
   "source": [
    "from sklearn.ensemble import RandomForestClassifier\n",
    "from sklearn.datasets import make_classification\n",
    "X, y = make_classification(n_samples=1000, n_features=4,n_informative=2, n_redundant=0,random_state=0, shuffle=False)\n",
    "clf = RandomForestClassifier(max_depth=2, random_state=0)\n",
    "clf.fit(X_train, y_train)\n",
    "clf.score(X_test, y_test, sample_weight=None)"
   ]
  },
  {
   "cell_type": "code",
   "execution_count": 67,
   "metadata": {},
   "outputs": [
    {
     "name": "stdout",
     "output_type": "stream",
     "text": [
      "              precision    recall  f1-score   support\n",
      "\n",
      "           0       0.67      0.95      0.78    201420\n",
      "           1       0.81      0.33      0.47    140288\n",
      "\n",
      "    accuracy                           0.69    341708\n",
      "   macro avg       0.74      0.64      0.63    341708\n",
      "weighted avg       0.73      0.69      0.65    341708\n",
      "\n"
     ]
    }
   ],
   "source": [
    "y_pred = clf.predict(X_test)\n",
    "print(classification_report(y_test, y_pred, labels=[0,1]))"
   ]
  },
  {
   "cell_type": "code",
   "execution_count": 68,
   "metadata": {},
   "outputs": [
    {
     "data": {
      "text/plain": [
       "0.813350112252024"
      ]
     },
     "execution_count": 68,
     "metadata": {},
     "output_type": "execute_result"
    }
   ],
   "source": [
    "roc_auc_score(y_test, clf.predict_proba(X_test)[:, 1])"
   ]
  },
  {
   "cell_type": "code",
   "execution_count": 69,
   "metadata": {},
   "outputs": [],
   "source": [
    "confusion_mat = confusion_matrix(y_test,y_pred)"
   ]
  },
  {
   "cell_type": "code",
   "execution_count": 70,
   "metadata": {
    "scrolled": true
   },
   "outputs": [
    {
     "data": {
      "image/png": "[encoded data removed]",
      "text/plain": [
       "<Figure size 432x288 with 2 Axes>"
      ]
     },
     "metadata": {
      "needs_background": "light"
     },
     "output_type": "display_data"
    }
   ],
   "source": [
    "disp = ConfusionMatrixDisplay(confusion_matrix=confusion_mat, display_labels=clf.classes_)\n",
    "disp.plot()\n",
    "plt.show()"
   ]
  },
  {
   "cell_type": "code",
   "execution_count": 71,
   "metadata": {},
   "outputs": [
    {
     "name": "stderr",
     "output_type": "stream",
     "text": [
      "/opt/anaconda3/lib/python3.8/site-packages/sklearn/utils/validation.py:1111: DataConversionWarning: A column-vector y was passed when a 1d array was expected. Please change the shape of y to (n_samples, ), for example using ravel().\n",
      "  y = column_or_1d(y, warn=True)\n"
     ]
    },
    {
     "data": {
      "text/plain": [
       "0.7597744272887963"
      ]
     },
     "execution_count": 71,
     "metadata": {},
     "output_type": "execute_result"
    }
   ],
   "source": [
    "from sklearn.ensemble import AdaBoostClassifier\n",
    "from sklearn.datasets import make_classification\n",
    "X, y = make_classification(n_samples=1000, n_features=4,n_informative=2, n_redundant=0,random_state=0, shuffle=False)\n",
    "clf = AdaBoostClassifier(n_estimators=100, random_state=0)\n",
    "clf.fit(X_train, y_train)\n",
    "clf.score(X_test, y_test, sample_weight=None)"
   ]
  },
  {
   "cell_type": "code",
   "execution_count": 72,
   "metadata": {},
   "outputs": [
    {
     "name": "stdout",
     "output_type": "stream",
     "text": [
      "              precision    recall  f1-score   support\n",
      "\n",
      "           0       0.77      0.84      0.81    201420\n",
      "           1       0.74      0.64      0.69    140288\n",
      "\n",
      "    accuracy                           0.76    341708\n",
      "   macro avg       0.76      0.74      0.75    341708\n",
      "weighted avg       0.76      0.76      0.76    341708\n",
      "\n"
     ]
    }
   ],
   "source": [
    "y_pred = clf.predict(X_test)\n",
    "print(classification_report(y_test, y_pred, labels=[0,1]))"
   ]
  },
  {
   "cell_type": "code",
   "execution_count": 73,
   "metadata": {},
   "outputs": [
    {
     "data": {
      "text/plain": [
       "0.8363015460610597"
      ]
     },
     "execution_count": 73,
     "metadata": {},
     "output_type": "execute_result"
    }
   ],
   "source": [
    "roc_auc_score(y_test, clf.predict_proba(X_test)[:, 1])"
   ]
  },
  {
   "cell_type": "code",
   "execution_count": 74,
   "metadata": {},
   "outputs": [],
   "source": [
    "confusion_mat = confusion_matrix(y_test,y_pred)"
   ]
  },
  {
   "cell_type": "code",
   "execution_count": 75,
   "metadata": {},
   "outputs": [
    {
     "data": {
      "image/png": "[encoded data removed]",
      "text/plain": [
       "<Figure size 432x288 with 2 Axes>"
      ]
     },
     "metadata": {
      "needs_background": "light"
     },
     "output_type": "display_data"
    }
   ],
   "source": [
    "disp = ConfusionMatrixDisplay(confusion_matrix=confusion_mat, display_labels=clf.classes_)\n",
    "disp.plot()\n",
    "plt.show()"
   ]
  },
  {
   "cell_type": "code",
   "execution_count": 76,
   "metadata": {},
   "outputs": [
    {
     "name": "stderr",
     "output_type": "stream",
     "text": [
      "/opt/anaconda3/lib/python3.8/site-packages/sklearn/ensemble/_gb.py:570: DataConversionWarning: A column-vector y was passed when a 1d array was expected. Please change the shape of y to (n_samples, ), for example using ravel().\n",
      "  y = column_or_1d(y, warn=True)\n",
      "/opt/anaconda3/lib/python3.8/site-packages/sklearn/ensemble/_gb.py:570: DataConversionWarning: A column-vector y was passed when a 1d array was expected. Please change the shape of y to (n_samples, ), for example using ravel().\n",
      "  y = column_or_1d(y, warn=True)\n"
     ]
    },
    {
     "data": {
      "text/plain": [
       "0.7610357381155841"
      ]
     },
     "execution_count": 76,
     "metadata": {},
     "output_type": "execute_result"
    }
   ],
   "source": [
    "from sklearn.ensemble import GradientBoostingClassifier\n",
    "clf = GradientBoostingClassifier(n_estimators=100, learning_rate=1.0,max_depth=1, random_state=0).fit(X_train, y_train)\n",
    "clf.fit(X_train, y_train)\n",
    "clf.score(X_test, y_test)"
   ]
  },
  {
   "cell_type": "code",
   "execution_count": 77,
   "metadata": {},
   "outputs": [
    {
     "name": "stdout",
     "output_type": "stream",
     "text": [
      "              precision    recall  f1-score   support\n",
      "\n",
      "           0       0.77      0.84      0.81    201420\n",
      "           1       0.74      0.65      0.69    140288\n",
      "\n",
      "    accuracy                           0.76    341708\n",
      "   macro avg       0.76      0.74      0.75    341708\n",
      "weighted avg       0.76      0.76      0.76    341708\n",
      "\n"
     ]
    }
   ],
   "source": [
    "y_pred = clf.predict(X_test)\n",
    "print(classification_report(y_test, y_pred, labels=[0,1]))"
   ]
  },
  {
   "cell_type": "code",
   "execution_count": 78,
   "metadata": {},
   "outputs": [
    {
     "data": {
      "text/plain": [
       "0.8371128742627845"
      ]
     },
     "execution_count": 78,
     "metadata": {},
     "output_type": "execute_result"
    }
   ],
   "source": [
    "roc_auc_score(y_test, clf.predict_proba(X_test)[:, 1])"
   ]
  },
  {
   "cell_type": "code",
   "execution_count": 79,
   "metadata": {},
   "outputs": [],
   "source": [
    "confusion_mat = confusion_matrix(y_test,y_pred)"
   ]
  },
  {
   "cell_type": "code",
   "execution_count": 80,
   "metadata": {
    "scrolled": true
   },
   "outputs": [
    {
     "data": {
      "image/png": "[encoded data removed]",
      "text/plain": [
       "<Figure size 432x288 with 2 Axes>"
      ]
     },
     "metadata": {
      "needs_background": "light"
     },
     "output_type": "display_data"
    }
   ],
   "source": [
    "disp = ConfusionMatrixDisplay(confusion_matrix=confusion_mat, display_labels=clf.classes_)\n",
    "disp.plot()\n",
    "plt.show()"
   ]
  },
  {
   "cell_type": "code",
   "execution_count": null,
   "metadata": {},
   "outputs": [],
   "source": [
    "from sklearn.neural_network import MLPClassifier\n",
    "y_pred = clf.predict(X_test)\n",
    "print(classification_report(y_test, y_pred, labels=[0,1]))\n",
    "\n",
    "roc_auc_score(y_test, clf.predict_proba(X_test)[:, 1])\n",
    "\n",
    "confusion_mat = confusion_matrix(y_test,y_pred)\n",
    "\n",
    "disp = ConfusionMatrixDisplay(confusion_matrix=confusion_mat, display_labels=clf.classes_)\n",
    "disp.plot()\n",
    "plt.show()clf = MLPClassifier(solver='lbfgs', alpha=1e-5,hidden_layer_sizes=(5, 2), random_state=1)\n",
    "clf.fit(X_train, y_train)\n",
    "y_pred = clf.predict(X_test)\n",
    "accuracy = accuracy_score(y_test,y_pred)*100\n",
    "#confusion_mat = confusion_matrix(y_test,y_pred)"
   ]
  },
  {
   "cell_type": "code",
   "execution_count": 82,
   "metadata": {},
   "outputs": [
    {
     "name": "stderr",
     "output_type": "stream",
     "text": [
      "/opt/anaconda3/lib/python3.8/site-packages/sklearn/neural_network/_multilayer_perceptron.py:1118: DataConversionWarning: A column-vector y was passed when a 1d array was expected. Please change the shape of y to (n_samples, ), for example using ravel().\n",
      "  y = column_or_1d(y, warn=True)\n"
     ]
    },
    {
     "data": {
      "text/html": [
       "<style>#sk-container-id-3 {color: black;background-color: white;}#sk-container-id-3 pre{padding: 0;}#sk-container-id-3 div.sk-toggleable {background-color: white;}#sk-container-id-3 label.sk-toggleable__label {cursor: pointer;display: block;width: 100%;margin-bottom: 0;padding: 0.3em;box-sizing: border-box;text-align: center;}#sk-container-id-3 label.sk-toggleable__label-arrow:before {content: \"▸\";float: left;margin-right: 0.25em;color: #696969;}#sk-container-id-3 label.sk-toggleable__label-arrow:hover:before {color: black;}#sk-container-id-3 div.sk-estimator:hover label.sk-toggleable__label-arrow:before {color: black;}#sk-container-id-3 div.sk-toggleable__content {max-height: 0;max-width: 0;overflow: hidden;text-align: left;background-color: #f0f8ff;}#sk-container-id-3 div.sk-toggleable__content pre {margin: 0.2em;color: black;border-radius: 0.25em;background-color: #f0f8ff;}#sk-container-id-3 input.sk-toggleable__control:checked~div.sk-toggleable__content {max-height: 200px;max-width: 100%;overflow: auto;}#sk-container-id-3 input.sk-toggleable__control:checked~label.sk-toggleable__label-arrow:before {content: \"▾\";}#sk-container-id-3 div.sk-estimator input.sk-toggleable__control:checked~label.sk-toggleable__label {background-color: #d4ebff;}#sk-container-id-3 div.sk-label input.sk-toggleable__control:checked~label.sk-toggleable__label {background-color: #d4ebff;}#sk-container-id-3 input.sk-hidden--visually {border: 0;clip: rect(1px 1px 1px 1px);clip: rect(1px, 1px, 1px, 1px);height: 1px;margin: -1px;overflow: hidden;padding: 0;position: absolute;width: 1px;}#sk-container-id-3 div.sk-estimator {font-family: monospace;background-color: #f0f8ff;border: 1px dotted black;border-radius: 0.25em;box-sizing: border-box;margin-bottom: 0.5em;}#sk-container-id-3 div.sk-estimator:hover {background-color: #d4ebff;}#sk-container-id-3 div.sk-parallel-item::after {content: \"\";width: 100%;border-bottom: 1px solid gray;flex-grow: 1;}#sk-container-id-3 div.sk-label:hover label.sk-toggleable__label {background-color: #d4ebff;}#sk-container-id-3 div.sk-serial::before {content: \"\";position: absolute;border-left: 1px solid gray;box-sizing: border-box;top: 0;bottom: 0;left: 50%;z-index: 0;}#sk-container-id-3 div.sk-serial {display: flex;flex-direction: column;align-items: center;background-color: white;padding-right: 0.2em;padding-left: 0.2em;position: relative;}#sk-container-id-3 div.sk-item {position: relative;z-index: 1;}#sk-container-id-3 div.sk-parallel {display: flex;align-items: stretch;justify-content: center;background-color: white;position: relative;}#sk-container-id-3 div.sk-item::before, #sk-container-id-3 div.sk-parallel-item::before {content: \"\";position: absolute;border-left: 1px solid gray;box-sizing: border-box;top: 0;bottom: 0;left: 50%;z-index: -1;}#sk-container-id-3 div.sk-parallel-item {display: flex;flex-direction: column;z-index: 1;position: relative;background-color: white;}#sk-container-id-3 div.sk-parallel-item:first-child::after {align-self: flex-end;width: 50%;}#sk-container-id-3 div.sk-parallel-item:last-child::after {align-self: flex-start;width: 50%;}#sk-container-id-3 div.sk-parallel-item:only-child::after {width: 0;}#sk-container-id-3 div.sk-dashed-wrapped {border: 1px dashed gray;margin: 0 0.4em 0.5em 0.4em;box-sizing: border-box;padding-bottom: 0.4em;background-color: white;}#sk-container-id-3 div.sk-label label {font-family: monospace;font-weight: bold;display: inline-block;line-height: 1.2em;}#sk-container-id-3 div.sk-label-container {text-align: center;}#sk-container-id-3 div.sk-container {/* jupyter's `normalize.less` sets `[hidden] { display: none; }` but bootstrap.min.css set `[hidden] { display: none !important; }` so we also need the `!important` here to be able to override the default hidden behavior on the sphinx rendered scikit-learn.org. See: https://github.com/scikit-learn/scikit-learn/issues/21755 */display: inline-block !important;position: relative;}#sk-container-id-3 div.sk-text-repr-fallback {display: none;}</style><div id=\"sk-container-id-3\" class=\"sk-top-container\"><div class=\"sk-text-repr-fallback\"><pre>MLPClassifier(hidden_layer_sizes=(150, 100, 50), max_iter=300)</pre><b>In a Jupyter environment, please rerun this cell to show the HTML representation or trust the notebook. <br />On GitHub, the HTML representation is unable to render, please try loading this page with nbviewer.org.</b></div><div class=\"sk-container\" hidden><div class=\"sk-item\"><div class=\"sk-estimator sk-toggleable\"><input class=\"sk-toggleable__control sk-hidden--visually\" id=\"sk-estimator-id-3\" type=\"checkbox\" checked><label for=\"sk-estimator-id-3\" class=\"sk-toggleable__label sk-toggleable__label-arrow\">MLPClassifier</label><div class=\"sk-toggleable__content\"><pre>MLPClassifier(hidden_layer_sizes=(150, 100, 50), max_iter=300)</pre></div></div></div></div></div>"
      ],
      "text/plain": [
       "MLPClassifier(hidden_layer_sizes=(150, 100, 50), max_iter=300)"
      ]
     },
     "execution_count": 82,
     "metadata": {},
     "output_type": "execute_result"
    }
   ],
   "source": [
    "from sklearn.neural_network import MLPClassifier\n",
    "\n",
    "mlp_clf = MLPClassifier(hidden_layer_sizes=(150,100,50),\n",
    "                        max_iter = 300,activation = 'relu',\n",
    "                        solver = 'adam')\n",
    "\n",
    "mlp_clf.fit(X_train, y_train)"
   ]
  },
  {
   "cell_type": "code",
   "execution_count": 83,
   "metadata": {},
   "outputs": [
    {
     "data": {
      "text/plain": [
       "0.5894506420686668"
      ]
     },
     "execution_count": 83,
     "metadata": {},
     "output_type": "execute_result"
    }
   ],
   "source": [
    "mlp_clf.score(X_test, y_test)"
   ]
  },
  {
   "cell_type": "code",
   "execution_count": 84,
   "metadata": {},
   "outputs": [
    {
     "data": {
      "image/png": "[encoded data removed]",
      "text/plain": [
       "<Figure size 432x288 with 1 Axes>"
      ]
     },
     "metadata": {
      "needs_background": "light"
     },
     "output_type": "display_data"
    }
   ],
   "source": [
    "plt.plot(mlp_clf.loss_curve_)\n",
    "plt.title(\"Loss Curve\", fontsize=14)\n",
    "plt.xlabel('Iterations')\n",
    "plt.ylabel('Cost')\n",
    "plt.show()"
   ]
  },
  {
   "cell_type": "code",
   "execution_count": 85,
   "metadata": {},
   "outputs": [
    {
     "name": "stderr",
     "output_type": "stream",
     "text": [
      "/opt/anaconda3/lib/python3.8/site-packages/sklearn/metrics/_classification.py:1334: UndefinedMetricWarning: Precision and F-score are ill-defined and being set to 0.0 in labels with no predicted samples. Use `zero_division` parameter to control this behavior.\n",
      "  _warn_prf(average, modifier, msg_start, len(result))\n",
      "/opt/anaconda3/lib/python3.8/site-packages/sklearn/metrics/_classification.py:1334: UndefinedMetricWarning: Precision and F-score are ill-defined and being set to 0.0 in labels with no predicted samples. Use `zero_division` parameter to control this behavior.\n",
      "  _warn_prf(average, modifier, msg_start, len(result))\n"
     ]
    },
    {
     "name": "stdout",
     "output_type": "stream",
     "text": [
      "              precision    recall  f1-score   support\n",
      "\n",
      "           0       0.59      1.00      0.74    201420\n",
      "           1       0.00      0.00      0.00    140288\n",
      "\n",
      "    accuracy                           0.59    341708\n",
      "   macro avg       0.29      0.50      0.37    341708\n",
      "weighted avg       0.35      0.59      0.44    341708\n",
      "\n"
     ]
    },
    {
     "name": "stderr",
     "output_type": "stream",
     "text": [
      "/opt/anaconda3/lib/python3.8/site-packages/sklearn/metrics/_classification.py:1334: UndefinedMetricWarning: Precision and F-score are ill-defined and being set to 0.0 in labels with no predicted samples. Use `zero_division` parameter to control this behavior.\n",
      "  _warn_prf(average, modifier, msg_start, len(result))\n"
     ]
    }
   ],
   "source": [
    "y_pred = mlp_clf.predict(X_test)\n",
    "print(classification_report(y_test, y_pred, labels=[0,1]))"
   ]
  },
  {
   "cell_type": "code",
   "execution_count": 86,
   "metadata": {},
   "outputs": [
    {
     "data": {
      "text/plain": [
       "0.5"
      ]
     },
     "execution_count": 86,
     "metadata": {},
     "output_type": "execute_result"
    }
   ],
   "source": [
    "roc_auc_score(y_test, mlp_clf.predict_proba(X_test)[:, 1])"
   ]
  },
  {
   "cell_type": "code",
   "execution_count": 87,
   "metadata": {},
   "outputs": [],
   "source": [
    "confusion_mat = confusion_matrix(y_test,y_pred)"
   ]
  },
  {
   "cell_type": "code",
   "execution_count": 88,
   "metadata": {
    "scrolled": true
   },
   "outputs": [
    {
     "data": {
      "image/png": "[encoded data removed]",
      "text/plain": [
       "<Figure size 432x288 with 2 Axes>"
      ]
     },
     "metadata": {
      "needs_background": "light"
     },
     "output_type": "display_data"
    }
   ],
   "source": [
    "disp = ConfusionMatrixDisplay(confusion_matrix=confusion_mat, display_labels=clf.classes_)\n",
    "disp.plot()\n",
    "plt.show()"
   ]
  },
  {
   "cell_type": "code",
   "execution_count": null,
   "metadata": {},
   "outputs": [],
   "source": []
  },
  {
   "cell_type": "code",
   "execution_count": 89,
   "metadata": {},
   "outputs": [],
   "source": [
    "from numpy import loadtxt\n",
    "from tensorflow.keras.models import Sequential\n",
    "from tensorflow.keras.layers import Dense"
   ]
  },
  {
   "cell_type": "code",
   "execution_count": 90,
   "metadata": {},
   "outputs": [
    {
     "name": "stdout",
     "output_type": "stream",
     "text": [
      "Model: \"sequential\"\n",
      "_________________________________________________________________\n",
      "Layer (type)                 Output Shape              Param #   \n",
      "=================================================================\n",
      "dense (Dense)                (None, None, 12)          216       \n",
      "_________________________________________________________________\n",
      "dense_1 (Dense)              (None, None, 8)           104       \n",
      "_________________________________________________________________\n",
      "dense_2 (Dense)              (None, None, 1)           9         \n",
      "=================================================================\n",
      "Total params: 329\n",
      "Trainable params: 329\n",
      "Non-trainable params: 0\n",
      "_________________________________________________________________\n"
     ]
    }
   ],
   "source": [
    "model = Sequential()\n",
    "model.add(Dense(12, input_shape=(None,17), activation='relu'))\n",
    "model.add(Dense(8, activation='relu'))\n",
    "model.add(Dense(1, activation='sigmoid'))\n",
    "model.summary()"
   ]
  },
  {
   "cell_type": "code",
   "execution_count": 91,
   "metadata": {},
   "outputs": [],
   "source": [
    "model.compile(loss='binary_crossentropy', optimizer='adam', metrics=['binary_crossentropy','accuracy'])"
   ]
  },
  {
   "cell_type": "code",
   "execution_count": 99,
   "metadata": {
    "scrolled": false
   },
   "outputs": [
    {
     "name": "stdout",
     "output_type": "stream",
     "text": [
      "Epoch 1/50\n",
      "136683/136683 [==============================] - 218s 2ms/step - loss: 0.5132 - binary_crossentropy: 0.5132 - accuracy: 0.7512\n",
      "Epoch 2/50\n",
      "136683/136683 [==============================] - 226s 2ms/step - loss: 0.5126 - binary_crossentropy: 0.5126 - accuracy: 0.7514\n",
      "Epoch 3/50\n",
      "136683/136683 [==============================] - 219s 2ms/step - loss: 0.5119 - binary_crossentropy: 0.5119 - accuracy: 0.75180s - loss: 0.5119 - binary_crossentropy: 0.5119 - accuracy: 0. - ETA: 0s - loss: 0.5120 - binary\n",
      "Epoch 4/50\n",
      "136683/136683 [==============================] - 211s 2ms/step - loss: 0.5115 - binary_crossentropy: 0.5115 - accuracy: 0.7519\n",
      "Epoch 5/50\n",
      "136683/136683 [==============================] - 223s 2ms/step - loss: 0.5109 - binary_crossentropy: 0.5109 - accuracy: 0.7524\n",
      "Epoch 6/50\n",
      "136683/136683 [==============================] - 207s 2ms/step - loss: 0.5104 - binary_crossentropy: 0.5104 - accuracy: 0.7523\n",
      "Epoch 7/50\n",
      "136683/136683 [==============================] - 216s 2ms/step - loss: 0.5099 - binary_crossentropy: 0.5099 - accuracy: 0.7529\n",
      "Epoch 8/50\n",
      "136683/136683 [==============================] - 213s 2ms/step - loss: 0.5096 - binary_crossentropy: 0.5096 - accuracy: 0.7530\n",
      "Epoch 9/50\n",
      "136683/136683 [==============================] - 205s 1ms/step - loss: 0.5091 - binary_crossentropy: 0.5091 - accuracy: 0.7532\n",
      "Epoch 10/50\n",
      "136683/136683 [==============================] - 207s 2ms/step - loss: 0.5082 - binary_crossentropy: 0.5082 - accuracy: 0.7538\n",
      "Epoch 11/50\n",
      "136683/136683 [==============================] - 208s 2ms/step - loss: 0.5076 - binary_crossentropy: 0.5076 - accuracy: 0.7542\n",
      "Epoch 12/50\n",
      "136683/136683 [==============================] - 205s 2ms/step - loss: 0.5071 - binary_crossentropy: 0.5071 - accuracy: 0.7543\n",
      "Epoch 13/50\n",
      "136683/136683 [==============================] - 232s 2ms/step - loss: 0.5065 - binary_crossentropy: 0.5065 - accuracy: 0.7548\n",
      "Epoch 14/50\n",
      "136683/136683 [==============================] - 226s 2ms/step - loss: 0.5062 - binary_crossentropy: 0.5062 - accuracy: 0.7548\n",
      "Epoch 15/50\n",
      "136683/136683 [==============================] - 209s 2ms/step - loss: 0.5058 - binary_crossentropy: 0.5058 - accuracy: 0.7553\n",
      "Epoch 16/50\n",
      "136683/136683 [==============================] - 209s 2ms/step - loss: 0.5054 - binary_crossentropy: 0.5054 - accuracy: 0.7555\n",
      "Epoch 17/50\n",
      "136683/136683 [==============================] - 210s 2ms/step - loss: 0.5050 - binary_crossentropy: 0.5050 - accuracy: 0.75600s - loss: 0.5050 - binary_crossentropy: 0.5050 - \n",
      "Epoch 18/50\n",
      "136683/136683 [==============================] - 210s 2ms/step - loss: 0.5047 - binary_crossentropy: 0.5047 - accuracy: 0.7562\n",
      "Epoch 19/50\n",
      "136683/136683 [==============================] - 216s 2ms/step - loss: 0.5043 - binary_crossentropy: 0.5043 - accuracy: 0.75680s - loss: 0.5043 - binary_crossentropy: 0.5043 - accuracy: \n",
      "Epoch 20/50\n",
      "136683/136683 [==============================] - 213s 2ms/step - loss: 0.5039 - binary_crossentropy: 0.5039 - accuracy: 0.75671s - loss: 0.5039 - bi - ETA: 1s\n",
      "Epoch 21/50\n",
      "136683/136683 [==============================] - 243s 2ms/step - loss: 0.5037 - binary_crossentropy: 0.5037 - accuracy: 0.7572\n",
      "Epoch 22/50\n",
      "136683/136683 [==============================] - 213s 2ms/step - loss: 0.5033 - binary_crossentropy: 0.5033 - accuracy: 0.7572\n",
      "Epoch 23/50\n",
      "136683/136683 [==============================] - 212s 2ms/step - loss: 0.5030 - binary_crossentropy: 0.5030 - accuracy: 0.7573\n",
      "Epoch 24/50\n",
      "136683/136683 [==============================] - 210s 2ms/step - loss: 0.5027 - binary_crossentropy: 0.5027 - accuracy: 0.7578\n",
      "Epoch 25/50\n",
      "136683/136683 [==============================] - 211s 2ms/step - loss: 0.5024 - binary_crossentropy: 0.5024 - accuracy: 0.7577\n",
      "Epoch 26/50\n",
      "136683/136683 [==============================] - 209s 2ms/step - loss: 0.5022 - binary_crossentropy: 0.5022 - accuracy: 0.7579\n",
      "Epoch 27/50\n",
      "136683/136683 [==============================] - 213s 2ms/step - loss: 0.5019 - binary_crossentropy: 0.5019 - accuracy: 0.7579\n",
      "Epoch 28/50\n",
      "136683/136683 [==============================] - 211s 2ms/step - loss: 0.5008 - binary_crossentropy: 0.5008 - accuracy: 0.7585\n",
      "Epoch 29/50\n",
      "136683/136683 [==============================] - 211s 2ms/step - loss: 0.4984 - binary_crossentropy: 0.4984 - accuracy: 0.7598\n",
      "Epoch 30/50\n",
      "136683/136683 [==============================] - 211s 2ms/step - loss: 0.4966 - binary_crossentropy: 0.4966 - accuracy: 0.7609\n",
      "Epoch 31/50\n",
      "136683/136683 [==============================] - 212s 2ms/step - loss: 0.4952 - binary_crossentropy: 0.4952 - accuracy: 0.7617\n",
      "Epoch 32/50\n",
      "136683/136683 [==============================] - 211s 2ms/step - loss: 0.4944 - binary_crossentropy: 0.4944 - accuracy: 0.7623\n",
      "Epoch 33/50\n",
      "136683/136683 [==============================] - 212s 2ms/step - loss: 0.4935 - binary_crossentropy: 0.4935 - accuracy: 0.7632\n",
      "Epoch 34/50\n",
      "136683/136683 [==============================] - 213s 2ms/step - loss: 0.4927 - binary_crossentropy: 0.4927 - accuracy: 0.7637\n",
      "Epoch 35/50\n",
      "136683/136683 [==============================] - 219s 2ms/step - loss: 0.4920 - binary_crossentropy: 0.4920 - accuracy: 0.7644\n",
      "Epoch 36/50\n",
      "136683/136683 [==============================] - 215s 2ms/step - loss: 0.4913 - binary_crossentropy: 0.4913 - accuracy: 0.7645\n",
      "Epoch 37/50\n",
      "136683/136683 [==============================] - 215s 2ms/step - loss: 0.4905 - binary_crossentropy: 0.4905 - accuracy: 0.7653\n",
      "Epoch 38/50\n",
      "136683/136683 [==============================] - 215s 2ms/step - loss: 0.4900 - binary_crossentropy: 0.4900 - accuracy: 0.7655\n",
      "Epoch 39/50\n",
      "136683/136683 [==============================] - 216s 2ms/step - loss: 0.4892 - binary_crossentropy: 0.4892 - accuracy: 0.7661\n",
      "Epoch 40/50\n",
      "136683/136683 [==============================] - 221s 2ms/step - loss: 0.4886 - binary_crossentropy: 0.4886 - accuracy: 0.7666\n",
      "Epoch 41/50\n",
      "136683/136683 [==============================] - 222s 2ms/step - loss: 0.4880 - binary_crossentropy: 0.4880 - accuracy: 0.7671\n",
      "Epoch 42/50\n",
      "136683/136683 [==============================] - 222s 2ms/step - loss: 0.4875 - binary_crossentropy: 0.4875 - accuracy: 0.7673\n",
      "Epoch 43/50\n",
      "136683/136683 [==============================] - 222s 2ms/step - loss: 0.4870 - binary_crossentropy: 0.4870 - accuracy: 0.7678\n",
      "Epoch 44/50\n",
      "136683/136683 [==============================] - 232s 2ms/step - loss: 0.4864 - binary_crossentropy: 0.4864 - accuracy: 0.7679\n",
      "Epoch 45/50\n",
      "136683/136683 [==============================] - 223s 2ms/step - loss: 0.4859 - binary_crossentropy: 0.4859 - accuracy: 0.7684\n",
      "Epoch 46/50\n",
      "136683/136683 [==============================] - 223s 2ms/step - loss: 0.4853 - binary_crossentropy: 0.4853 - accuracy: 0.7687\n",
      "Epoch 47/50\n",
      "136683/136683 [==============================] - 222s 2ms/step - loss: 0.4849 - binary_crossentropy: 0.4849 - accuracy: 0.7690\n",
      "Epoch 48/50\n",
      "136683/136683 [==============================] - 223s 2ms/step - loss: 0.4844 - binary_crossentropy: 0.4844 - accuracy: 0.7692\n",
      "Epoch 49/50\n",
      "136683/136683 [==============================] - 221s 2ms/step - loss: 0.4841 - binary_crossentropy: 0.4841 - accuracy: 0.7695\n",
      "Epoch 50/50\n",
      "136683/136683 [==============================] - 224s 2ms/step - loss: 0.4837 - binary_crossentropy: 0.4837 - accuracy: 0.76960s - loss: 0.4837 - binary_crossentropy: 0.4\n"
     ]
    }
   ],
   "source": [
    "history = model.fit(X_train, y_train, epochs=50, batch_size=10)\n"
   ]
  },
  {
   "cell_type": "code",
   "execution_count": 105,
   "metadata": {},
   "outputs": [
    {
     "name": "stdout",
     "output_type": "stream",
     "text": [
      "Epoch 1/50\n",
      "136683/136683 [==============================] - 204s 1ms/step - loss: 0.4768 - binary_crossentropy: 0.4768 - accuracy: 0.7743\n",
      "Epoch 2/50\n",
      "136683/136683 [==============================] - 203s 1ms/step - loss: 0.4768 - binary_crossentropy: 0.4768 - accuracy: 0.7745\n",
      "Epoch 3/50\n",
      "136683/136683 [==============================] - 204s 1ms/step - loss: 0.4767 - binary_crossentropy: 0.4767 - accuracy: 0.7747\n",
      "Epoch 4/50\n",
      "136683/136683 [==============================] - 204s 1ms/step - loss: 0.4766 - binary_crossentropy: 0.4766 - accuracy: 0.7745\n",
      "Epoch 5/50\n",
      "136683/136683 [==============================] - 204s 1ms/step - loss: 0.4765 - binary_crossentropy: 0.4765 - accuracy: 0.7745\n",
      "Epoch 6/50\n",
      "136683/136683 [==============================] - 206s 2ms/step - loss: 0.4765 - binary_crossentropy: 0.4765 - accuracy: 0.7744\n",
      "Epoch 7/50\n",
      "136683/136683 [==============================] - 206s 2ms/step - loss: 0.4765 - binary_crossentropy: 0.4765 - accuracy: 0.7746\n",
      "Epoch 8/50\n",
      "136683/136683 [==============================] - 206s 2ms/step - loss: 0.4764 - binary_crossentropy: 0.4764 - accuracy: 0.7746\n",
      "Epoch 9/50\n",
      "136683/136683 [==============================] - 208s 2ms/step - loss: 0.4763 - binary_crossentropy: 0.4763 - accuracy: 0.7748\n",
      "Epoch 10/50\n",
      "136683/136683 [==============================] - 208s 2ms/step - loss: 0.4763 - binary_crossentropy: 0.4763 - accuracy: 0.7748\n",
      "Epoch 11/50\n",
      "136683/136683 [==============================] - 208s 2ms/step - loss: 0.4763 - binary_crossentropy: 0.4763 - accuracy: 0.7750\n",
      "Epoch 12/50\n",
      "136683/136683 [==============================] - 208s 2ms/step - loss: 0.4762 - binary_crossentropy: 0.4762 - accuracy: 0.7746\n",
      "Epoch 13/50\n",
      "136683/136683 [==============================] - 208s 2ms/step - loss: 0.4762 - binary_crossentropy: 0.4762 - accuracy: 0.7748\n",
      "Epoch 14/50\n",
      "136683/136683 [==============================] - 208s 2ms/step - loss: 0.4761 - binary_crossentropy: 0.4761 - accuracy: 0.7748\n",
      "Epoch 15/50\n",
      "136683/136683 [==============================] - 209s 2ms/step - loss: 0.4760 - binary_crossentropy: 0.4760 - accuracy: 0.7750\n",
      "Epoch 16/50\n",
      "136683/136683 [==============================] - 209s 2ms/step - loss: 0.4759 - binary_crossentropy: 0.4759 - accuracy: 0.7749\n",
      "Epoch 17/50\n",
      "136683/136683 [==============================] - 210s 2ms/step - loss: 0.4759 - binary_crossentropy: 0.4759 - accuracy: 0.7751\n",
      "Epoch 18/50\n",
      "136683/136683 [==============================] - 208s 2ms/step - loss: 0.4759 - binary_crossentropy: 0.4759 - accuracy: 0.7751\n",
      "Epoch 19/50\n",
      "136683/136683 [==============================] - 209s 2ms/step - loss: 0.4758 - binary_crossentropy: 0.4758 - accuracy: 0.7752\n",
      "Epoch 20/50\n",
      "136683/136683 [==============================] - 209s 2ms/step - loss: 0.4758 - binary_crossentropy: 0.4758 - accuracy: 0.7751\n",
      "Epoch 21/50\n",
      "136683/136683 [==============================] - 213s 2ms/step - loss: 0.4758 - binary_crossentropy: 0.4758 - accuracy: 0.7752\n",
      "Epoch 22/50\n",
      "136683/136683 [==============================] - 210s 2ms/step - loss: 0.4757 - binary_crossentropy: 0.4757 - accuracy: 0.7753\n",
      "Epoch 23/50\n",
      "136683/136683 [==============================] - 211s 2ms/step - loss: 0.4757 - binary_crossentropy: 0.4757 - accuracy: 0.7752\n",
      "Epoch 24/50\n",
      "136683/136683 [==============================] - 210s 2ms/step - loss: 0.4755 - binary_crossentropy: 0.4755 - accuracy: 0.7752\n",
      "Epoch 25/50\n",
      "136683/136683 [==============================] - 214s 2ms/step - loss: 0.4756 - binary_crossentropy: 0.4756 - accuracy: 0.7751\n",
      "Epoch 26/50\n",
      "136683/136683 [==============================] - 211s 2ms/step - loss: 0.4756 - binary_crossentropy: 0.4756 - accuracy: 0.7752\n",
      "Epoch 27/50\n",
      "136683/136683 [==============================] - 212s 2ms/step - loss: 0.4756 - binary_crossentropy: 0.4756 - accuracy: 0.7754\n",
      "Epoch 28/50\n",
      "136683/136683 [==============================] - 212s 2ms/step - loss: 0.4755 - binary_crossentropy: 0.4755 - accuracy: 0.7753\n",
      "Epoch 29/50\n",
      "136683/136683 [==============================] - 211s 2ms/step - loss: 0.4754 - binary_crossentropy: 0.4754 - accuracy: 0.7755\n",
      "Epoch 30/50\n",
      "136683/136683 [==============================] - 212s 2ms/step - loss: 0.4754 - binary_crossentropy: 0.4754 - accuracy: 0.7754\n",
      "Epoch 31/50\n",
      "136683/136683 [==============================] - 212s 2ms/step - loss: 0.4753 - binary_crossentropy: 0.4753 - accuracy: 0.7753\n",
      "Epoch 32/50\n",
      "136683/136683 [==============================] - 212s 2ms/step - loss: 0.4754 - binary_crossentropy: 0.4754 - accuracy: 0.7753\n",
      "Epoch 33/50\n",
      "136683/136683 [==============================] - 213s 2ms/step - loss: 0.4754 - binary_crossentropy: 0.4754 - accuracy: 0.7755\n",
      "Epoch 34/50\n",
      "136683/136683 [==============================] - 213s 2ms/step - loss: 0.4752 - binary_crossentropy: 0.4752 - accuracy: 0.7753\n",
      "Epoch 35/50\n",
      "136683/136683 [==============================] - 216s 2ms/step - loss: 0.4752 - binary_crossentropy: 0.4752 - accuracy: 0.7756\n",
      "Epoch 36/50\n",
      "136683/136683 [==============================] - 219s 2ms/step - loss: 0.4751 - binary_crossentropy: 0.4751 - accuracy: 0.7754\n",
      "Epoch 37/50\n",
      "136683/136683 [==============================] - 217s 2ms/step - loss: 0.4751 - binary_crossentropy: 0.4751 - accuracy: 0.7756\n",
      "Epoch 38/50\n",
      "136683/136683 [==============================] - 218s 2ms/step - loss: 0.4750 - binary_crossentropy: 0.4750 - accuracy: 0.7755\n",
      "Epoch 39/50\n",
      "136683/136683 [==============================] - 217s 2ms/step - loss: 0.4751 - binary_crossentropy: 0.4751 - accuracy: 0.7755\n",
      "Epoch 40/50\n",
      "136683/136683 [==============================] - 225s 2ms/step - loss: 0.4751 - binary_crossentropy: 0.4751 - accuracy: 0.7754\n",
      "Epoch 41/50\n",
      "136683/136683 [==============================] - 226s 2ms/step - loss: 0.4750 - binary_crossentropy: 0.4750 - accuracy: 0.7758\n",
      "Epoch 42/50\n",
      "136683/136683 [==============================] - 226s 2ms/step - loss: 0.4751 - binary_crossentropy: 0.4751 - accuracy: 0.7756\n",
      "Epoch 43/50\n",
      "136683/136683 [==============================] - 228s 2ms/step - loss: 0.4750 - binary_crossentropy: 0.4750 - accuracy: 0.7756\n",
      "Epoch 44/50\n",
      "136683/136683 [==============================] - 226s 2ms/step - loss: 0.4749 - binary_crossentropy: 0.4749 - accuracy: 0.7758\n",
      "Epoch 45/50\n",
      "136683/136683 [==============================] - 226s 2ms/step - loss: 0.4749 - binary_crossentropy: 0.4749 - accuracy: 0.7757\n",
      "Epoch 46/50\n",
      "136683/136683 [==============================] - 227s 2ms/step - loss: 0.4749 - binary_crossentropy: 0.4749 - accuracy: 0.77580s - loss: 0.4750 - binary_crossentr\n",
      "Epoch 47/50\n",
      "136683/136683 [==============================] - 226s 2ms/step - loss: 0.4749 - binary_crossentropy: 0.4749 - accuracy: 0.7756\n",
      "Epoch 48/50\n",
      "136683/136683 [==============================] - 226s 2ms/step - loss: 0.4748 - binary_crossentropy: 0.4748 - accuracy: 0.7757\n",
      "Epoch 49/50\n",
      "136683/136683 [==============================] - 227s 2ms/step - loss: 0.4749 - binary_crossentropy: 0.4749 - accuracy: 0.7756\n",
      "Epoch 50/50\n",
      "136683/136683 [==============================] - 228s 2ms/step - loss: 0.4748 - binary_crossentropy: 0.4748 - accuracy: 0.7758\n"
     ]
    }
   ],
   "source": [
    "history = model.fit(X_train, y_train, epochs=50, batch_size=10)\n",
    "\n"
   ]
  },
  {
   "cell_type": "code",
   "execution_count": 101,
   "metadata": {},
   "outputs": [
    {
     "name": "stdout",
     "output_type": "stream",
     "text": [
      "10679/10679 [==============================] - 13s 1ms/step - loss: 0.4785 - binary_crossentropy: 0.4785 - accuracy: 0.7737\n"
     ]
    }
   ],
   "source": [
    "accuracy = model.evaluate(X_test,y_test)"
   ]
  },
  {
   "cell_type": "code",
   "execution_count": 102,
   "metadata": {},
   "outputs": [
    {
     "data": {
      "text/plain": [
       "[0.47850751876831055, 0.47850751876831055, 0.7736839652061462]"
      ]
     },
     "execution_count": 102,
     "metadata": {},
     "output_type": "execute_result"
    }
   ],
   "source": [
    "accuracy"
   ]
  },
  {
   "cell_type": "code",
   "execution_count": 103,
   "metadata": {},
   "outputs": [
    {
     "data": {
      "text/plain": [
       "[<matplotlib.lines.Line2D at 0x7fd30a0a04c0>]"
      ]
     },
     "execution_count": 103,
     "metadata": {},
     "output_type": "execute_result"
    },
    {
     "data": {
      "image/png": "[encoded data removed]",
      "text/plain": [
       "<Figure size 432x288 with 1 Axes>"
      ]
     },
     "metadata": {
      "needs_background": "light"
     },
     "output_type": "display_data"
    }
   ],
   "source": [
    "plt.plot(history.history[\"loss\"])"
   ]
  },
  {
   "cell_type": "code",
   "execution_count": 104,
   "metadata": {},
   "outputs": [
    {
     "data": {
      "text/plain": [
       "[<matplotlib.lines.Line2D at 0x7fd2f9f35100>]"
      ]
     },
     "execution_count": 104,
     "metadata": {},
     "output_type": "execute_result"
    },
    {
     "data": {
      "image/png": "[encoded data removed]",
      "text/plain": [
       "<Figure size 432x288 with 1 Axes>"
      ]
     },
     "metadata": {
      "needs_background": "light"
     },
     "output_type": "display_data"
    }
   ],
   "source": [
    "plt.plot(history.history[\"accuracy\"])"
   ]
  },
  {
   "cell_type": "code",
   "execution_count": 97,
   "metadata": {},
   "outputs": [
    {
     "name": "stdout",
     "output_type": "stream",
     "text": [
      "WARNING:tensorflow:Model was constructed with shape (None, None, 17) for input KerasTensor(type_spec=TensorSpec(shape=(None, None, 17), dtype=tf.float32, name='dense_input'), name='dense_input', description=\"created by layer 'dense_input'\"), but it was called on an input with incompatible shape (None, 17).\n"
     ]
    },
    {
     "ename": "ValueError",
     "evalue": "Classification metrics can't handle a mix of binary and continuous targets",
     "output_type": "error",
     "traceback": [
      "\u001b[0;31m---------------------------------------------------------------------------\u001b[0m",
      "\u001b[0;31mValueError\u001b[0m                                Traceback (most recent call last)",
      "\u001b[0;32m<ipython-input-97-978bb4ae7414>\u001b[0m in \u001b[0;36m<module>\u001b[0;34m\u001b[0m\n\u001b[1;32m      1\u001b[0m \u001b[0my_pred\u001b[0m \u001b[0;34m=\u001b[0m \u001b[0mmodel\u001b[0m\u001b[0;34m.\u001b[0m\u001b[0mpredict\u001b[0m\u001b[0;34m(\u001b[0m\u001b[0mX_test\u001b[0m\u001b[0;34m)\u001b[0m\u001b[0;34m\u001b[0m\u001b[0;34m\u001b[0m\u001b[0m\n\u001b[0;32m----> 2\u001b[0;31m \u001b[0mprint\u001b[0m\u001b[0;34m(\u001b[0m\u001b[0mclassification_report\u001b[0m\u001b[0;34m(\u001b[0m\u001b[0my_test\u001b[0m\u001b[0;34m,\u001b[0m \u001b[0my_pred\u001b[0m\u001b[0;34m,\u001b[0m \u001b[0mlabels\u001b[0m\u001b[0;34m=\u001b[0m\u001b[0;34m[\u001b[0m\u001b[0;36m0\u001b[0m\u001b[0;34m,\u001b[0m\u001b[0;36m1\u001b[0m\u001b[0;34m]\u001b[0m\u001b[0;34m)\u001b[0m\u001b[0;34m)\u001b[0m\u001b[0;34m\u001b[0m\u001b[0;34m\u001b[0m\u001b[0m\n\u001b[0m",
      "\u001b[0;32m/opt/anaconda3/lib/python3.8/site-packages/sklearn/metrics/_classification.py\u001b[0m in \u001b[0;36mclassification_report\u001b[0;34m(y_true, y_pred, labels, target_names, sample_weight, digits, output_dict, zero_division)\u001b[0m\n\u001b[1;32m   2130\u001b[0m     \"\"\"\n\u001b[1;32m   2131\u001b[0m \u001b[0;34m\u001b[0m\u001b[0m\n\u001b[0;32m-> 2132\u001b[0;31m     \u001b[0my_type\u001b[0m\u001b[0;34m,\u001b[0m \u001b[0my_true\u001b[0m\u001b[0;34m,\u001b[0m \u001b[0my_pred\u001b[0m \u001b[0;34m=\u001b[0m \u001b[0m_check_targets\u001b[0m\u001b[0;34m(\u001b[0m\u001b[0my_true\u001b[0m\u001b[0;34m,\u001b[0m \u001b[0my_pred\u001b[0m\u001b[0;34m)\u001b[0m\u001b[0;34m\u001b[0m\u001b[0;34m\u001b[0m\u001b[0m\n\u001b[0m\u001b[1;32m   2133\u001b[0m \u001b[0;34m\u001b[0m\u001b[0m\n\u001b[1;32m   2134\u001b[0m     \u001b[0;32mif\u001b[0m \u001b[0mlabels\u001b[0m \u001b[0;32mis\u001b[0m \u001b[0;32mNone\u001b[0m\u001b[0;34m:\u001b[0m\u001b[0;34m\u001b[0m\u001b[0;34m\u001b[0m\u001b[0m\n",
      "\u001b[0;32m/opt/anaconda3/lib/python3.8/site-packages/sklearn/metrics/_classification.py\u001b[0m in \u001b[0;36m_check_targets\u001b[0;34m(y_true, y_pred)\u001b[0m\n\u001b[1;32m     91\u001b[0m \u001b[0;34m\u001b[0m\u001b[0m\n\u001b[1;32m     92\u001b[0m     \u001b[0;32mif\u001b[0m \u001b[0mlen\u001b[0m\u001b[0;34m(\u001b[0m\u001b[0my_type\u001b[0m\u001b[0;34m)\u001b[0m \u001b[0;34m>\u001b[0m \u001b[0;36m1\u001b[0m\u001b[0;34m:\u001b[0m\u001b[0;34m\u001b[0m\u001b[0;34m\u001b[0m\u001b[0m\n\u001b[0;32m---> 93\u001b[0;31m         raise ValueError(\n\u001b[0m\u001b[1;32m     94\u001b[0m             \"Classification metrics can't handle a mix of {0} and {1} targets\".format(\n\u001b[1;32m     95\u001b[0m                 \u001b[0mtype_true\u001b[0m\u001b[0;34m,\u001b[0m \u001b[0mtype_pred\u001b[0m\u001b[0;34m\u001b[0m\u001b[0;34m\u001b[0m\u001b[0m\n",
      "\u001b[0;31mValueError\u001b[0m: Classification metrics can't handle a mix of binary and continuous targets"
     ]
    }
   ],
   "source": [
    "y_pred = model.predict(X_test)\n",
    "print(classification_report(y_test, y_pred, labels=[0,1]))"
   ]
  },
  {
   "cell_type": "code",
   "execution_count": 98,
   "metadata": {},
   "outputs": [
    {
     "name": "stderr",
     "output_type": "stream",
     "text": [
      "/opt/anaconda3/lib/python3.8/site-packages/tensorflow/python/keras/engine/sequential.py:425: UserWarning: `model.predict_proba()` is deprecated and will be removed after 2021-01-01. Please use `model.predict()` instead.\n",
      "  warnings.warn('`model.predict_proba()` is deprecated and '\n"
     ]
    },
    {
     "ename": "IndexError",
     "evalue": "index 1 is out of bounds for axis 1 with size 1",
     "output_type": "error",
     "traceback": [
      "\u001b[0;31m---------------------------------------------------------------------------\u001b[0m",
      "\u001b[0;31mIndexError\u001b[0m                                Traceback (most recent call last)",
      "\u001b[0;32m<ipython-input-98-4b4a168a2532>\u001b[0m in \u001b[0;36m<module>\u001b[0;34m\u001b[0m\n\u001b[0;32m----> 1\u001b[0;31m \u001b[0mroc_auc_score\u001b[0m\u001b[0;34m(\u001b[0m\u001b[0my_test\u001b[0m\u001b[0;34m,\u001b[0m \u001b[0mmodel\u001b[0m\u001b[0;34m.\u001b[0m\u001b[0mpredict_proba\u001b[0m\u001b[0;34m(\u001b[0m\u001b[0mX_test\u001b[0m\u001b[0;34m)\u001b[0m\u001b[0;34m[\u001b[0m\u001b[0;34m:\u001b[0m\u001b[0;34m,\u001b[0m \u001b[0;36m1\u001b[0m\u001b[0;34m]\u001b[0m\u001b[0;34m)\u001b[0m\u001b[0;34m\u001b[0m\u001b[0;34m\u001b[0m\u001b[0m\n\u001b[0m",
      "\u001b[0;31mIndexError\u001b[0m: index 1 is out of bounds for axis 1 with size 1"
     ]
    }
   ],
   "source": [
    "roc_auc_score(y_test, model.predict_proba(X_test)[:, 1])"
   ]
  },
  {
   "cell_type": "code",
   "execution_count": null,
   "metadata": {},
   "outputs": [],
   "source": [
    "confusion_mat = confusion_matrix(y_test,y_pred)"
   ]
  },
  {
   "cell_type": "code",
   "execution_count": null,
   "metadata": {
    "scrolled": true
   },
   "outputs": [],
   "source": [
    "disp = ConfusionMatrixDisplay(confusion_matrix=confusion_mat, display_labels=clf.classes_)\n",
    "disp.plot()\n",
    "plt.show()"
   ]
  },
  {
   "cell_type": "code",
   "execution_count": 52,
   "metadata": {},
   "outputs": [
    {
     "data": {
      "image/png": "[encoded data removed]",
      "text/plain": [
       "<Figure size 432x288 with 1 Axes>"
      ]
     },
     "metadata": {
      "needs_background": "light"
     },
     "output_type": "display_data"
    }
   ],
   "source": [
    "x = df['C3-P3']\n",
    "x[:1000000].plot()\n",
    "plt.xlabel(\"Sample Number\")\n",
    "plt.ylabel(\"Amplitude\")\n",
    "plt.title(\"Preictal Period (C3-P3)\")\n",
    "plt.show()"
   ]
  },
  {
   "cell_type": "code",
   "execution_count": 42,
   "metadata": {},
   "outputs": [
    {
     "data": {
      "image/png": "[encoded data removed]",
      "text/plain": [
       "<Figure size 432x288 with 1 Axes>"
      ]
     },
     "metadata": {
      "needs_background": "light"
     },
     "output_type": "display_data"
    }
   ],
   "source": [
    "x = df['C3-P3']\n",
    "x[1000000:].plot()\n",
    "plt.xlabel(\"Sample Number\")\n",
    "plt.ylabel(\"Amplitude\")\n",
    "plt.title(\"Ictal Period (C3-P3)\")\n",
    "plt.show()"
   ]
  },
  {
   "cell_type": "code",
   "execution_count": 43,
   "metadata": {},
   "outputs": [
    {
     "data": {
      "image/png": "[encoded data removed]",
      "text/plain": [
       "<Figure size 432x288 with 1 Axes>"
      ]
     },
     "metadata": {
      "needs_background": "light"
     },
     "output_type": "display_data"
    }
   ],
   "source": [
    "x = df['C4-P4']\n",
    "x[:1000000].plot()\n",
    "plt.xlabel(\"Sample Number\")\n",
    "plt.ylabel(\"Amplitude\")\n",
    "plt.title(\"Preictal Period (C4-P4)\")\n",
    "plt.show()"
   ]
  },
  {
   "cell_type": "code",
   "execution_count": 44,
   "metadata": {},
   "outputs": [
    {
     "data": {
      "image/png": "[encoded data removed]",
      "text/plain": [
       "<Figure size 432x288 with 1 Axes>"
      ]
     },
     "metadata": {
      "needs_background": "light"
     },
     "output_type": "display_data"
    }
   ],
   "source": [
    "x = df['C4-P4']\n",
    "x[1000000:].plot()\n",
    "plt.xlabel(\"Sample Number\")\n",
    "plt.ylabel(\"Amplitude\")\n",
    "plt.title(\"Ictal Period (C4-P4)\")\n",
    "plt.show()"
   ]
  },
  {
   "cell_type": "code",
   "execution_count": 45,
   "metadata": {},
   "outputs": [
    {
     "data": {
      "image/png": "[encoded data removed]",
      "text/plain": [
       "<Figure size 432x288 with 1 Axes>"
      ]
     },
     "metadata": {
      "needs_background": "light"
     },
     "output_type": "display_data"
    }
   ],
   "source": [
    "x = df['CZ-PZ']\n",
    "x[:1000000].plot()\n",
    "plt.xlabel(\"Sample Number\")\n",
    "plt.ylabel(\"Amplitude\")\n",
    "plt.title(\"Preictal Period (CZ-PZ)\")\n",
    "plt.show()"
   ]
  },
  {
   "cell_type": "code",
   "execution_count": 46,
   "metadata": {
    "scrolled": true
   },
   "outputs": [
    {
     "data": {
      "image/png": "[encoded data removed]",
      "text/plain": [
       "<Figure size 432x288 with 1 Axes>"
      ]
     },
     "metadata": {
      "needs_background": "light"
     },
     "output_type": "display_data"
    }
   ],
   "source": [
    "x = df['CZ-PZ']\n",
    "x[1000000:].plot()\n",
    "plt.xlabel(\"Sample Number\")\n",
    "plt.ylabel(\"Amplitude\")\n",
    "plt.title(\"Ictal Period (CZ-PZ)\")\n",
    "plt.show()"
   ]
  },
  {
   "cell_type": "code",
   "execution_count": null,
   "metadata": {},
   "outputs": [],
   "source": [
    "f1_score(y_true, y_pred, average='micro')\n",
    "roc_auc_score(y, clf.decision_function(X))\n",
    "print(classification_report(y_true, y_pred, labels=[1, 2, 3]))"
   ]
  }
 ],
 "metadata": {
  "kernelspec": {
   "display_name": "Python 3",
   "language": "python",
   "name": "python3"
  },
  "language_info": {
   "codemirror_mode": {
    "name": "ipython",
    "version": 3
   },
   "file_extension": ".py",
   "mimetype": "text/x-python",
   "name": "python",
   "nbconvert_exporter": "python",
   "pygments_lexer": "ipython3",
   "version": "3.8.3"
  }
 },
 "nbformat": 4,
 "nbformat_minor": 4
}
